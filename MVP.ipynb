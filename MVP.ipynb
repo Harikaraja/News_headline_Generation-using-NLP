{
  "nbformat": 4,
  "nbformat_minor": 0,
  "metadata": {
    "colab": {
      "provenance": [],
      "gpuType": "T4",
      "include_colab_link": true
    },
    "kernelspec": {
      "name": "python3",
      "display_name": "Python 3"
    },
    "language_info": {
      "name": "python"
    },
    "accelerator": "GPU"
  },
  "cells": [
    {
      "cell_type": "markdown",
      "metadata": {
        "id": "view-in-github",
        "colab_type": "text"
      },
      "source": [
        "<a href=\"https://colab.research.google.com/github/Harikaraja/News_headline_Generation-using-NLP/blob/MVP-1/MVP.ipynb\" target=\"_parent\"><img src=\"https://colab.research.google.com/assets/colab-badge.svg\" alt=\"Open In Colab\"/></a>"
      ]
    },
    {
      "cell_type": "code",
      "execution_count": null,
      "metadata": {
        "id": "006BYbYR1pvd"
      },
      "outputs": [],
      "source": [
        "import numpy as np\n",
        "import pandas as pd\n",
        "import math\n",
        "import matplotlib.pyplot as plt\n",
        "import graphviz"
      ]
    },
    {
      "cell_type": "code",
      "source": [
        "\n",
        "\n",
        "\n",
        "\n",
        "\n",
        "\n",
        "\n",
        "\n",
        "import nltk\n",
        "nltk.download()"
      ],
      "metadata": {
        "colab": {
          "base_uri": "https://localhost:8080/"
        },
        "id": "zZ7tppH3TH3G",
        "outputId": "b91d28c3-4f98-4d51-d3e8-921447e5f6ef"
      },
      "execution_count": null,
      "outputs": [
        {
          "name": "stdout",
          "output_type": "stream",
          "text": [
            "NLTK Downloader\n",
            "---------------------------------------------------------------------------\n",
            "    d) Download   l) List    u) Update   c) Config   h) Help   q) Quit\n",
            "---------------------------------------------------------------------------\n",
            "Downloader> d\n",
            "\n",
            "Download which package (l=list; x=cancel)?\n",
            "  Identifier> l\n",
            "Packages:\n",
            "  [ ] abc................. Australian Broadcasting Commission 2006\n",
            "  [ ] alpino.............. Alpino Dutch Treebank\n",
            "  [ ] averaged_perceptron_tagger Averaged Perceptron Tagger\n",
            "  [ ] averaged_perceptron_tagger_ru Averaged Perceptron Tagger (Russian)\n",
            "  [ ] basque_grammars..... Grammars for Basque\n",
            "  [ ] bcp47............... BCP-47 Language Tags\n",
            "  [ ] biocreative_ppi..... BioCreAtIvE (Critical Assessment of Information\n",
            "                           Extraction Systems in Biology)\n",
            "  [ ] bllip_wsj_no_aux.... BLLIP Parser: WSJ Model\n",
            "  [ ] book_grammars....... Grammars from NLTK Book\n",
            "  [ ] brown............... Brown Corpus\n",
            "  [ ] brown_tei........... Brown Corpus (TEI XML Version)\n",
            "  [ ] cess_cat............ CESS-CAT Treebank\n",
            "  [ ] cess_esp............ CESS-ESP Treebank\n",
            "  [ ] chat80.............. Chat-80 Data Files\n",
            "  [ ] city_database....... City Database\n",
            "  [ ] cmudict............. The Carnegie Mellon Pronouncing Dictionary (0.6)\n",
            "  [ ] comparative_sentences Comparative Sentence Dataset\n",
            "  [ ] comtrans............ ComTrans Corpus Sample\n",
            "  [ ] conll2000........... CONLL 2000 Chunking Corpus\n",
            "Hit Enter to continue: \n",
            "  [ ] conll2002........... CONLL 2002 Named Entity Recognition Corpus\n",
            "  [ ] conll2007........... Dependency Treebanks from CoNLL 2007 (Catalan\n",
            "                           and Basque Subset)\n",
            "  [ ] crubadan............ Crubadan Corpus\n",
            "  [ ] dependency_treebank. Dependency Parsed Treebank\n",
            "  [ ] dolch............... Dolch Word List\n",
            "  [ ] europarl_raw........ Sample European Parliament Proceedings Parallel\n",
            "                           Corpus\n",
            "  [ ] extended_omw........ Extended Open Multilingual WordNet\n",
            "  [ ] floresta............ Portuguese Treebank\n",
            "  [ ] framenet_v15........ FrameNet 1.5\n",
            "  [ ] framenet_v17........ FrameNet 1.7\n",
            "  [ ] gazetteers.......... Gazeteer Lists\n",
            "  [ ] genesis............. Genesis Corpus\n",
            "  [ ] gutenberg........... Project Gutenberg Selections\n",
            "  [ ] ieer................ NIST IE-ER DATA SAMPLE\n",
            "  [ ] inaugural........... C-Span Inaugural Address Corpus\n",
            "  [ ] indian.............. Indian Language POS-Tagged Corpus\n",
            "  [ ] jeita............... JEITA Public Morphologically Tagged Corpus (in\n",
            "                           ChaSen format)\n",
            "  [ ] kimmo............... PC-KIMMO Data Files\n",
            "Hit Enter to continue: \n",
            "  [ ] knbc................ KNB Corpus (Annotated blog corpus)\n",
            "  [ ] large_grammars...... Large context-free and feature-based grammars\n",
            "                           for parser comparison\n",
            "  [ ] lin_thesaurus....... Lin's Dependency Thesaurus\n",
            "  [ ] mac_morpho.......... MAC-MORPHO: Brazilian Portuguese news text with\n",
            "                           part-of-speech tags\n",
            "  [ ] machado............. Machado de Assis -- Obra Completa\n",
            "  [ ] masc_tagged......... MASC Tagged Corpus\n",
            "  [ ] maxent_ne_chunker... ACE Named Entity Chunker (Maximum entropy)\n",
            "  [ ] maxent_treebank_pos_tagger Treebank Part of Speech Tagger (Maximum entropy)\n",
            "  [ ] moses_sample........ Moses Sample Models\n",
            "  [ ] movie_reviews....... Sentiment Polarity Dataset Version 2.0\n",
            "  [ ] mte_teip5........... MULTEXT-East 1984 annotated corpus 4.0\n",
            "  [ ] mwa_ppdb............ The monolingual word aligner (Sultan et al.\n",
            "                           2015) subset of the Paraphrase Database.\n",
            "  [ ] names............... Names Corpus, Version 1.3 (1994-03-29)\n",
            "  [ ] nombank.1.0......... NomBank Corpus 1.0\n",
            "  [ ] nonbreaking_prefixes Non-Breaking Prefixes (Moses Decoder)\n",
            "  [ ] nps_chat............ NPS Chat\n",
            "  [ ] omw-1.4............. Open Multilingual Wordnet\n",
            "  [ ] omw................. Open Multilingual Wordnet\n",
            "Hit Enter to continue: \n",
            "  [ ] opinion_lexicon..... Opinion Lexicon\n",
            "  [ ] panlex_swadesh...... PanLex Swadesh Corpora\n",
            "  [ ] paradigms........... Paradigm Corpus\n",
            "  [ ] pe08................ Cross-Framework and Cross-Domain Parser\n",
            "                           Evaluation Shared Task\n",
            "  [ ] perluniprops........ perluniprops: Index of Unicode Version 7.0.0\n",
            "                           character properties in Perl\n",
            "  [ ] pil................. The Patient Information Leaflet (PIL) Corpus\n",
            "  [ ] pl196x.............. Polish language of the XX century sixties\n",
            "  [ ] porter_test......... Porter Stemmer Test Files\n",
            "  [ ] ppattach............ Prepositional Phrase Attachment Corpus\n",
            "  [ ] problem_reports..... Problem Report Corpus\n",
            "  [ ] product_reviews_1... Product Reviews (5 Products)\n",
            "  [ ] product_reviews_2... Product Reviews (9 Products)\n",
            "  [ ] propbank............ Proposition Bank Corpus 1.0\n",
            "  [ ] pros_cons........... Pros and Cons\n",
            "  [ ] ptb................. Penn Treebank\n",
            "  [ ] punkt............... Punkt Tokenizer Models\n",
            "  [ ] qc.................. Experimental Data for Question Classification\n",
            "  [ ] reuters............. The Reuters-21578 benchmark corpus, ApteMod\n",
            "                           version\n",
            "Hit Enter to continue: \n",
            "  [ ] rslp................ RSLP Stemmer (Removedor de Sufixos da Lingua\n",
            "                           Portuguesa)\n",
            "  [ ] rte................. PASCAL RTE Challenges 1, 2, and 3\n",
            "  [ ] sample_grammars..... Sample Grammars\n",
            "  [ ] semcor.............. SemCor 3.0\n",
            "  [ ] senseval............ SENSEVAL 2 Corpus: Sense Tagged Text\n",
            "  [ ] sentence_polarity... Sentence Polarity Dataset v1.0\n",
            "  [ ] sentiwordnet........ SentiWordNet\n",
            "  [ ] shakespeare......... Shakespeare XML Corpus Sample\n",
            "  [ ] sinica_treebank..... Sinica Treebank Corpus Sample\n",
            "  [ ] smultron............ SMULTRON Corpus Sample\n",
            "  [ ] snowball_data....... Snowball Data\n",
            "  [ ] spanish_grammars.... Grammars for Spanish\n",
            "  [ ] state_union......... C-Span State of the Union Address Corpus\n",
            "  [ ] stopwords........... Stopwords Corpus\n",
            "  [ ] subjectivity........ Subjectivity Dataset v1.0\n",
            "  [ ] swadesh............. Swadesh Wordlists\n",
            "  [ ] switchboard......... Switchboard Corpus Sample\n",
            "  [ ] tagsets............. Help on Tagsets\n",
            "  [ ] timit............... TIMIT Corpus Sample\n",
            "  [ ] toolbox............. Toolbox Sample Files\n",
            "Hit Enter to continue: \n",
            "  [ ] treebank............ Penn Treebank Sample\n",
            "  [ ] twitter_samples..... Twitter Samples\n",
            "  [ ] udhr2............... Universal Declaration of Human Rights Corpus\n",
            "                           (Unicode Version)\n",
            "  [ ] udhr................ Universal Declaration of Human Rights Corpus\n",
            "  [ ] unicode_samples..... Unicode Samples\n",
            "  [ ] universal_tagset.... Mappings to the Universal Part-of-Speech Tagset\n",
            "  [ ] universal_treebanks_v20 Universal Treebanks Version 2.0\n",
            "  [ ] vader_lexicon....... VADER Sentiment Lexicon\n",
            "  [ ] verbnet3............ VerbNet Lexicon, Version 3.3\n",
            "  [ ] verbnet............. VerbNet Lexicon, Version 2.1\n",
            "  [ ] webtext............. Web Text Corpus\n",
            "  [ ] wmt15_eval.......... Evaluation data from WMT15\n",
            "  [ ] word2vec_sample..... Word2Vec Sample\n",
            "  [ ] wordnet2021......... Open English Wordnet 2021\n",
            "  [ ] wordnet2022......... Open English Wordnet 2022\n",
            "  [ ] wordnet31........... Wordnet 3.1\n",
            "  [ ] wordnet............. WordNet\n",
            "  [ ] wordnet_ic.......... WordNet-InfoContent\n",
            "  [ ] words............... Word Lists\n",
            "  [ ] ycoe................ York-Toronto-Helsinki Parsed Corpus of Old\n",
            "                           English Prose\n",
            "Hit Enter to continue: \n",
            "\n",
            "Collections:\n",
            "  [ ] all-corpora......... All the corpora\n",
            "  [ ] all-nltk............ All packages available on nltk_data gh-pages\n",
            "                           branch\n",
            "  [ ] all................. All packages\n",
            "  [ ] book................ Everything used in the NLTK Book\n",
            "  [ ] popular............. Popular packages\n",
            "  [ ] tests............... Packages for running tests\n",
            "  [ ] third-party......... Third-party data packages\n",
            "\n",
            "([*] marks installed packages)\n",
            "\n",
            "Download which package (l=list; x=cancel)?\n",
            "  Identifier> x\n",
            "\n",
            "---------------------------------------------------------------------------\n",
            "    d) Download   l) List    u) Update   c) Config   h) Help   q) Quit\n",
            "---------------------------------------------------------------------------\n",
            "Downloader> q\n"
          ]
        },
        {
          "output_type": "execute_result",
          "data": {
            "text/plain": [
              "True"
            ]
          },
          "metadata": {},
          "execution_count": 3
        }
      ]
    },
    {
      "cell_type": "code",
      "source": [
        "nltk.download('punkt')"
      ],
      "metadata": {
        "colab": {
          "base_uri": "https://localhost:8080/"
        },
        "id": "pMJYidpGUyih",
        "outputId": "e7fa1851-1424-4de3-abf2-ee0e64b6db56"
      },
      "execution_count": null,
      "outputs": [
        {
          "output_type": "stream",
          "name": "stderr",
          "text": [
            "[nltk_data] Downloading package punkt to /root/nltk_data...\n",
            "[nltk_data]   Unzipping tokenizers/punkt.zip.\n"
          ]
        },
        {
          "output_type": "execute_result",
          "data": {
            "text/plain": [
              "True"
            ]
          },
          "metadata": {},
          "execution_count": 4
        }
      ]
    },
    {
      "cell_type": "code",
      "source": [
        "from google.colab import drive\n",
        "drive.mount('/content/drive')\n",
        "path = \"/content/drive/MyDrive/BBC_08_APR_17_to_08_JUN_2017.csv\""
      ],
      "metadata": {
        "colab": {
          "base_uri": "https://localhost:8080/"
        },
        "id": "6F6mjmCM19si",
        "outputId": "2b054ca0-3839-408e-9ca5-5251abcf24a3"
      },
      "execution_count": null,
      "outputs": [
        {
          "output_type": "stream",
          "name": "stdout",
          "text": [
            "Mounted at /content/drive\n"
          ]
        }
      ]
    },
    {
      "cell_type": "code",
      "source": [
        "df = pd.read_csv(path)"
      ],
      "metadata": {
        "id": "UlwpDL1b2hka"
      },
      "execution_count": null,
      "outputs": []
    },
    {
      "cell_type": "code",
      "source": [
        "print(df)"
      ],
      "metadata": {
        "colab": {
          "base_uri": "https://localhost:8080/"
        },
        "id": "Gr623lXO2nVG",
        "outputId": "c1d86198-aa87-4603-8262-cb63d9505bdc"
      },
      "execution_count": null,
      "outputs": [
        {
          "output_type": "stream",
          "name": "stdout",
          "text": [
            "                                               article  \\\n",
            "0    Syria war: US warns of 'more' after missile st...   \n",
            "1    Stockholm lorry rams crowds, killing 'at least...   \n",
            "2    DR Congo: Bruno Tshibala appointed new prime m...   \n",
            "3    Norway to build landmark ship tunnel Norway is...   \n",
            "4    Trump to make China visit after hosting Xi for...   \n",
            "..                                                 ...   \n",
            "983  Uber 'obtained rape victim's medical records' ...   \n",
            "984  London attack: Family pays tribute to 'beautif...   \n",
            "985  Mozambique police warn bald men after ritual a...   \n",
            "986  Burmese military plane vanishes over Andaman S...   \n",
            "987  Oldest female wing-walker beats record A darin...   \n",
            "\n",
            "                       date panda_date  \\\n",
            "0    Saturday 08 April 2017   8-Apr-17   \n",
            "1    Saturday 08 April 2017   8-Apr-17   \n",
            "2    Saturday 08 April 2017   8-Apr-17   \n",
            "3    Saturday 08 April 2017   8-Apr-17   \n",
            "4    Saturday 08 April 2017   8-Apr-17   \n",
            "..                      ...        ...   \n",
            "983   Thursday 08 June 2017   8-Jun-17   \n",
            "984   Thursday 08 June 2017   8-Jun-17   \n",
            "985   Thursday 08 June 2017   8-Jun-17   \n",
            "986   Thursday 08 June 2017   8-Jun-17   \n",
            "987   Thursday 08 June 2017   8-Jun-17   \n",
            "\n",
            "                                     headline  \\\n",
            "0        US warns Syria it's ready for 'more'   \n",
            "1          Deaths as lorry rams Swedish store   \n",
            "2       New PM Tshibala appointed in DR Congo   \n",
            "3        Norway to build landmark ship tunnel   \n",
            "4             Trump to make China state visit   \n",
            "..                                        ...   \n",
            "983     Uber 'obtained rape victim's records'   \n",
            "984  Family's tribute to London attack victim   \n",
            "985  Police warn bald men after ritual attack   \n",
            "986           Burmese military plane vanishes   \n",
            "987    Oldest female wing-walker beats record   \n",
            "\n",
            "                                               summary  \\\n",
            "0    Its ambassador to the UN says America will not...   \n",
            "1    At least four people are reported killed in a ...   \n",
            "2    The appointment is likely further divide oppon...   \n",
            "3    The country is taking radical steps to try and...   \n",
            "4    Mr Trump accepts the Chinese President Xi Jinp...   \n",
            "..                                                 ...   \n",
            "983  An Uber executive is fired after it is reporte...   \n",
            "984  Sara Zelenak was a 'beautiful daughter' her fa...   \n",
            "985  Some people in Mozambique believe that the hea...   \n",
            "986  Search and rescue efforts are under way off My...   \n",
            "987  Betty Bromage took to the skies over Glouceste...   \n",
            "\n",
            "                                                   url  \n",
            "0    http://www.bbc.com/news/world-middle-east-3952...  \n",
            "1        http://www.bbc.com/news/world-europe-39531108  \n",
            "2        http://www.bbc.com/news/world-africa-39536132  \n",
            "3        http://www.bbc.com/news/world-europe-39521570  \n",
            "4     http://www.bbc.com/news/world-us-canada-39535828  \n",
            "..                                                 ...  \n",
            "983        http://www.bbc.com/news/technology-40196055  \n",
            "984                http://www.bbc.com/news/uk-40187366  \n",
            "985      http://www.bbc.com/news/world-africa-40185359  \n",
            "986        http://www.bbc.com/news/world-asia-40188801  \n",
            "987  http://www.bbc.com/news/uk-england-gloucesters...  \n",
            "\n",
            "[988 rows x 6 columns]\n"
          ]
        }
      ]
    },
    {
      "cell_type": "code",
      "source": [
        "print(df[\"article\"])"
      ],
      "metadata": {
        "colab": {
          "base_uri": "https://localhost:8080/"
        },
        "id": "7AsoJQon3AUy",
        "outputId": "9ca4360e-c74f-4038-951f-2c758559d11d"
      },
      "execution_count": null,
      "outputs": [
        {
          "output_type": "stream",
          "name": "stdout",
          "text": [
            "0      Syria war: US warns of 'more' after missile st...\n",
            "1      Stockholm lorry rams crowds, killing 'at least...\n",
            "2      DR Congo: Bruno Tshibala appointed new prime m...\n",
            "3      Norway to build landmark ship tunnel Norway is...\n",
            "4      Trump to make China visit after hosting Xi for...\n",
            "                             ...                        \n",
            "983    Uber 'obtained rape victim's medical records' ...\n",
            "984    London attack: Family pays tribute to 'beautif...\n",
            "985    Mozambique police warn bald men after ritual a...\n",
            "986    Burmese military plane vanishes over Andaman S...\n",
            "987    Oldest female wing-walker beats record A darin...\n",
            "Name: article, Length: 988, dtype: object\n"
          ]
        }
      ]
    },
    {
      "cell_type": "code",
      "source": [
        "print(df[\"headline\"])"
      ],
      "metadata": {
        "colab": {
          "base_uri": "https://localhost:8080/"
        },
        "id": "Iw4NuRGs3KDM",
        "outputId": "0d5ce25b-854a-46bb-c003-1a48cd0ee66d"
      },
      "execution_count": null,
      "outputs": [
        {
          "output_type": "stream",
          "name": "stdout",
          "text": [
            "0          US warns Syria it's ready for 'more'\n",
            "1            Deaths as lorry rams Swedish store\n",
            "2         New PM Tshibala appointed in DR Congo\n",
            "3          Norway to build landmark ship tunnel\n",
            "4               Trump to make China state visit\n",
            "                         ...                   \n",
            "983       Uber 'obtained rape victim's records'\n",
            "984    Family's tribute to London attack victim\n",
            "985    Police warn bald men after ritual attack\n",
            "986             Burmese military plane vanishes\n",
            "987      Oldest female wing-walker beats record\n",
            "Name: headline, Length: 988, dtype: object\n"
          ]
        }
      ]
    },
    {
      "cell_type": "code",
      "source": [
        "print(len(df))"
      ],
      "metadata": {
        "colab": {
          "base_uri": "https://localhost:8080/"
        },
        "id": "Km1JiecA3ReB",
        "outputId": "f035bba3-0c98-4f4e-ab65-a9fdf1fcbcaf"
      },
      "execution_count": null,
      "outputs": [
        {
          "output_type": "stream",
          "name": "stdout",
          "text": [
            "988\n"
          ]
        }
      ]
    },
    {
      "cell_type": "code",
      "source": [
        "articles = list(df[\"article\"])\n",
        "\n",
        "# num=0\n",
        "# for i in range(0,len(articles)):\n",
        "#   num=num+1\n",
        "#   print(len(articles[i]))\n",
        "# print(\"num: \",num)\n",
        "\n",
        "#print(df[\"article\"][0])\n",
        "print(len(articles))"
      ],
      "metadata": {
        "id": "t4z0bPKrSK0D",
        "colab": {
          "base_uri": "https://localhost:8080/"
        },
        "outputId": "be18ac17-4ec0-4462-80d0-05a67dfa7f3c"
      },
      "execution_count": null,
      "outputs": [
        {
          "output_type": "stream",
          "name": "stdout",
          "text": [
            "988\n"
          ]
        }
      ]
    },
    {
      "cell_type": "markdown",
      "source": [
        "Sentence Lowering"
      ],
      "metadata": {
        "id": "OY5Z9f8pU4UN"
      }
    },
    {
      "cell_type": "code",
      "source": [
        "lowercased_li = [sentence.lower() for sentence in articles]\n",
        "print(len(lowercased_li))"
      ],
      "metadata": {
        "colab": {
          "base_uri": "https://localhost:8080/"
        },
        "id": "7OlTL2NyU3jF",
        "outputId": "1eb9b5e6-bbea-4099-fe9b-1cad89840d22"
      },
      "execution_count": null,
      "outputs": [
        {
          "output_type": "stream",
          "name": "stdout",
          "text": [
            "988\n"
          ]
        }
      ]
    },
    {
      "cell_type": "markdown",
      "source": [
        "**Removing remove non-word and non-whitespace characters**"
      ],
      "metadata": {
        "id": "UzrfwB6xVrkJ"
      }
    },
    {
      "cell_type": "code",
      "source": [
        "import re\n",
        "\n",
        "# Your list\n",
        "rnw=[]\n",
        "\n",
        "# Function to apply the regex replacement\n",
        "def apply_regex(text):\n",
        "    return re.sub(r'[^\\w\\s]', '', text)\n",
        "\n",
        "# Apply the function to each element in the list\n",
        "rnw = [apply_regex(entry) for entry in lowercased_li]\n",
        "print(len(rnw))"
      ],
      "metadata": {
        "colab": {
          "base_uri": "https://localhost:8080/"
        },
        "id": "LQvaWBz7Vuho",
        "outputId": "98a238f4-e59a-486b-a061-9ef3f0cebbb6"
      },
      "execution_count": null,
      "outputs": [
        {
          "output_type": "stream",
          "name": "stdout",
          "text": [
            "988\n"
          ]
        }
      ]
    },
    {
      "cell_type": "markdown",
      "source": [
        "**Sentence Tokenization**"
      ],
      "metadata": {
        "id": "CSF9oy3rV855"
      }
    },
    {
      "cell_type": "code",
      "source": [
        "from nltk.tokenize import sent_tokenize\n",
        "tokenized_li = [sent_tokenize(sentence) for sentence in rnw]\n",
        "print(len(tokenized_li))"
      ],
      "metadata": {
        "colab": {
          "base_uri": "https://localhost:8080/"
        },
        "id": "4rwunuKCWAd0",
        "outputId": "a1d6d803-7740-4906-caa2-a05b3cead9b1"
      },
      "execution_count": null,
      "outputs": [
        {
          "output_type": "stream",
          "name": "stdout",
          "text": [
            "988\n"
          ]
        }
      ]
    },
    {
      "cell_type": "markdown",
      "source": [
        "**Word Tokenization**"
      ],
      "metadata": {
        "id": "Ton6LIaOWGUN"
      }
    },
    {
      "cell_type": "code",
      "source": [
        "from nltk.tokenize import word_tokenize\n",
        "tokenized_words_li = [[word_tokenize(sentence) for sentence in sentences] for sentences in tokenized_li]\n",
        "print(len(tokenized_words_li))"
      ],
      "metadata": {
        "colab": {
          "base_uri": "https://localhost:8080/"
        },
        "id": "Xc6v7BCWWJav",
        "outputId": "eb95e4b9-6a31-4961-a743-faaa5d9130c1"
      },
      "execution_count": null,
      "outputs": [
        {
          "output_type": "stream",
          "name": "stdout",
          "text": [
            "988\n"
          ]
        }
      ]
    },
    {
      "cell_type": "code",
      "source": [
        "from nltk.stem import PorterStemmer\n",
        "\n",
        "# Initialize the Porter Stemmer\n",
        "porter_stemmer = PorterStemmer()\n",
        "\n",
        "# Apply stemming on tokenized_words_li\n",
        "stemmed_li = [\n",
        "    [\n",
        "        porter_stemmer.stem(word) for sentence in sentences for word in word_tokenize(sentence)\n",
        "    ]\n",
        "    for sentences in tokenized_li\n",
        "]\n",
        "print(len(stemmed_li))"
      ],
      "metadata": {
        "colab": {
          "base_uri": "https://localhost:8080/"
        },
        "id": "NU11ntyIXUVB",
        "outputId": "507f1b27-e1e0-41b1-b118-5513e50715f9"
      },
      "execution_count": null,
      "outputs": [
        {
          "output_type": "stream",
          "name": "stdout",
          "text": [
            "988\n"
          ]
        }
      ]
    },
    {
      "cell_type": "markdown",
      "source": [
        "**Stop Words**"
      ],
      "metadata": {
        "id": "4lkGETj5WWv-"
      }
    },
    {
      "cell_type": "code",
      "source": [
        "from nltk.corpus import stopwords\n",
        "nltk.download('stopwords')\n",
        "stop_words = set(stopwords.words('english'))"
      ],
      "metadata": {
        "colab": {
          "base_uri": "https://localhost:8080/"
        },
        "id": "6WJcvVU2WaGB",
        "outputId": "cfe5e2ff-bb08-452b-836f-eb3305eb8db8"
      },
      "execution_count": null,
      "outputs": [
        {
          "output_type": "stream",
          "name": "stderr",
          "text": [
            "[nltk_data] Downloading package stopwords to /root/nltk_data...\n",
            "[nltk_data]   Unzipping corpora/stopwords.zip.\n"
          ]
        }
      ]
    },
    {
      "cell_type": "code",
      "source": [
        "filtered_li = [\n",
        "    [\n",
        "        word for word in words if word not in stop_words\n",
        "    ] for words in stemmed_li\n",
        "]\n",
        "\n",
        "print(len(filtered_li))\n",
        "print(filtered_li[1])"
      ],
      "metadata": {
        "colab": {
          "base_uri": "https://localhost:8080/"
        },
        "id": "qFjiLS9sXHfp",
        "outputId": "407c0557-6c3f-4bbf-e859-125af1673746"
      },
      "execution_count": null,
      "outputs": [
        {
          "output_type": "stream",
          "name": "stdout",
          "text": [
            "988\n",
            "['stockholm', 'lorri', 'ram', 'crowd', 'kill', 'least', 'four', 'peopl', 'lorri', 'ha', 'smash', 'store', 'central', 'stockholm', 'kill', 'least', 'four', 'peopl', 'least', 'dozen', 'peopl', 'also', 'injur', 'incid', 'drottninggatan', 'queen', 'street', 'one', 'citi', 'major', 'pedestrian', 'street', 'friday', 'afternoon', 'swedish', 'prime', 'minist', 'stefan', 'lofven', 'said', 'wa', 'terror', 'attack', 'one', 'man', 'ha', 'arrest', 'polic', 'releas', 'cctv', 'imag', 'person', 'may', 'connect', 'case', 'eyewit', 'describ', 'lorri', 'tri', 'hit', 'peopl', 'speech', 'friday', 'night', 'mr', 'lofven', 'said', 'swedish', 'valu', 'democraci', 'freedom', 'would', 'undermin', 'hatr', 'also', 'announc', 'countri', 'border', 'control', 'strengthen', 'crash', 'happen', 'ahlen', 'depart', 'store', 'befor', '1500', 'local', 'time', '1300', 'gmt', 'wit', 'say', 'lorri', 'drove', 'front', 'window', 'one', 'eyewit', 'annevi', 'petersson', 'told', 'bbc', 'wa', 'shop', 'fit', 'room', 'heard', 'scream', 'wa', 'blood', 'everywher', 'said', 'swedish', 'breweri', 'spendrup', 'said', 'lorri', 'stolen', 'way', 'restaur', 'deliveri', 'earlier', 'day', 'someon', 'jump', 'driver', 'cabin', 'drove', 'vehicl', 'driver', 'wa', 'unload', 'breweri', 'spokesperson', 'told', 'tt', 'news', 'agenc', 'shop', 'sit', 'close', 'citi', 'central', 'station', 'wa', 'evacu', 'metro', 'central', 'road', 'variou', 'bu', 'line', 'also', 'shut', 'attack', 'shot', 'reportedli', 'fire', 'anoth', 'part', 'citi', 'swedish', 'polic', 'told', 'local', 'media', 'wa', 'connect', 'two', 'incid', 'citi', 'author', 'said', 'made', 'sever', 'space', 'includ', 'number', 'school', 'build', 'avail', 'temporari', 'accommod', 'could', 'get', 'home', 'becaus', 'transport', 'disrupt', 'also', 'ask', 'peopl', 'share', 'photograph', 'victim', 'onlin', 'wa', 'stockholm', 'yesterday', 'iron', 'secur', 'confer', 'dont', 'think', 'sweden', 'wa', 'prepar', 'someth', 'like', 'thi', 'last', 'big', 'terror', 'incid', 'wa', '2010', 'fail', 'suicid', 'bomber', 'blew', 'car', 'central', 'stockholm', 'countri', 'ha', 'good', 'intelligencegath', 'apparatu', 'sapo', 'swedish', 'equival', 'uk', 'mi5', 'agenc', 'got', 'finger', 'problem', 'legisl', 'deal', 'insid', 'concern', 'quit', 'time', 'sweden', 'ha', 'bit', 'lax', 'secur', 'import', 'thi', 'stage', 'though', 'keep', 'open', 'mind', 'perpetr', 'imposs', 'wa', 'someon', 'person', 'psycholog', 'problem', 'rather', 'polit', 'motiv']\n"
          ]
        }
      ]
    },
    {
      "cell_type": "code",
      "source": [
        "data = []\n",
        "dataset_len = len(df)\n",
        "for i in range(0,dataset_len):\n",
        "  li=[]\n",
        "  art_len = filtered_li[i]\n",
        "  head_len = df[\"headline\"][i]\n",
        "  li.append(len(art_len))\n",
        "  li.append(len(head_len.split()))\n",
        "  data.append(li)\n",
        "vis_dataset = pd.DataFrame(data, columns=['numwords_in_article', 'headline_length'])\n",
        "print(vis_dataset)"
      ],
      "metadata": {
        "colab": {
          "base_uri": "https://localhost:8080/"
        },
        "id": "nXQBy811ZLcd",
        "outputId": "d2d0e4db-e9d6-4047-edf1-350853460f21"
      },
      "execution_count": null,
      "outputs": [
        {
          "output_type": "stream",
          "name": "stdout",
          "text": [
            "     numwords_in_article  headline_length\n",
            "0                    546                7\n",
            "1                    266                6\n",
            "2                    142                7\n",
            "3                     20                6\n",
            "4                    373                6\n",
            "..                   ...              ...\n",
            "983                  253                5\n",
            "984                  393                6\n",
            "985                  150                7\n",
            "986                  143                4\n",
            "987                   48                5\n",
            "\n",
            "[988 rows x 2 columns]\n"
          ]
        }
      ]
    },
    {
      "cell_type": "code",
      "source": [
        "#print(articles[80])\n",
        "words = articles[0].split()\n",
        "print(len(words))"
      ],
      "metadata": {
        "colab": {
          "base_uri": "https://localhost:8080/"
        },
        "id": "M5VMMp6s4Nrp",
        "outputId": "a0036763-72eb-4b80-a7de-085e0b580ea3"
      },
      "execution_count": null,
      "outputs": [
        {
          "output_type": "stream",
          "name": "stdout",
          "text": [
            "880\n"
          ]
        }
      ]
    },
    {
      "cell_type": "code",
      "source": [
        "less_than_250=[]\n",
        "words_251_to_500=[]\n",
        "words_501_to_800=[]\n",
        "more_than_800=[]"
      ],
      "metadata": {
        "id": "-o_LbZ5s464P"
      },
      "execution_count": null,
      "outputs": []
    },
    {
      "cell_type": "code",
      "source": [
        "def classify_article(word_count,article_text):\n",
        "    if word_count < 250:\n",
        "      less_than_250.append(article_text)\n",
        "    elif 251<=word_count<=500:\n",
        "      words_251_to_500.append(article_text)\n",
        "    elif 501<=word_count<=800:\n",
        "      words_501_to_800.append(article_text)\n",
        "    elif word_count>=801:\n",
        "      more_than_800.append(article_text)\n",
        "\n",
        "def count_words(text):\n",
        "    words = text.split()\n",
        "    return len(words)\n",
        "\n",
        "for article_text in articles:\n",
        "    word_count = count_words(article_text)\n",
        "    classification = classify_article(word_count,article_text)\n"
      ],
      "metadata": {
        "id": "GhwiyKSu3U0E"
      },
      "execution_count": null,
      "outputs": []
    },
    {
      "cell_type": "code",
      "source": [
        "print(len(less_than_250))"
      ],
      "metadata": {
        "colab": {
          "base_uri": "https://localhost:8080/"
        },
        "id": "D-iROqdA6J_g",
        "outputId": "e77c0d74-e307-4be1-a906-936986cfaf8e"
      },
      "execution_count": null,
      "outputs": [
        {
          "output_type": "stream",
          "name": "stdout",
          "text": [
            "224\n"
          ]
        }
      ]
    },
    {
      "cell_type": "code",
      "source": [
        "print(len(words_251_to_500))"
      ],
      "metadata": {
        "colab": {
          "base_uri": "https://localhost:8080/"
        },
        "id": "a_9d0WGS6L2H",
        "outputId": "68289fa2-b161-46d3-b303-e49f3381d9f2"
      },
      "execution_count": null,
      "outputs": [
        {
          "output_type": "stream",
          "name": "stdout",
          "text": [
            "420\n"
          ]
        }
      ]
    },
    {
      "cell_type": "code",
      "source": [
        "print(len(words_501_to_800))"
      ],
      "metadata": {
        "colab": {
          "base_uri": "https://localhost:8080/"
        },
        "id": "qR34xYqq6Tdg",
        "outputId": "eb819ac2-df77-4305-e6a0-578050608180"
      },
      "execution_count": null,
      "outputs": [
        {
          "output_type": "stream",
          "name": "stdout",
          "text": [
            "251\n"
          ]
        }
      ]
    },
    {
      "cell_type": "code",
      "source": [
        "print(len(more_than_800))"
      ],
      "metadata": {
        "colab": {
          "base_uri": "https://localhost:8080/"
        },
        "id": "ayJJG2Ay6XH_",
        "outputId": "c45dd129-9558-42f1-86e6-d4c4c4dca06c"
      },
      "execution_count": null,
      "outputs": [
        {
          "output_type": "stream",
          "name": "stdout",
          "text": [
            "93\n"
          ]
        }
      ]
    },
    {
      "cell_type": "markdown",
      "source": [
        "Dataframe creation"
      ],
      "metadata": {
        "id": "WKtpJl6GEsJO"
      }
    },
    {
      "cell_type": "code",
      "source": [
        "data = []\n",
        "dataset_len = len(df)\n",
        "for i in range(0,dataset_len):\n",
        "  li=[]\n",
        "  art_len = df[\"article\"][i]\n",
        "  head_len = df[\"headline\"][i]\n",
        "  li.append(len(art_len.split()))\n",
        "  li.append(len(head_len.split()))\n",
        "  data.append(li)\n",
        "vis_dataset = pd.DataFrame(data, columns=['numwords_in_article', 'headline_length'])\n",
        "print(vis_dataset)"
      ],
      "metadata": {
        "colab": {
          "base_uri": "https://localhost:8080/"
        },
        "id": "4rjrPhaL7SdW",
        "outputId": "affd872d-1685-4b4f-bfd8-befbf5922422"
      },
      "execution_count": null,
      "outputs": [
        {
          "output_type": "stream",
          "name": "stdout",
          "text": [
            "     numwords_in_article  headline_length\n",
            "0                    880                7\n",
            "1                    430                6\n",
            "2                    226                7\n",
            "3                     29                6\n",
            "4                    604                6\n",
            "..                   ...              ...\n",
            "983                  418                5\n",
            "984                  634                6\n",
            "985                  243                7\n",
            "986                  227                4\n",
            "987                   79                5\n",
            "\n",
            "[988 rows x 2 columns]\n"
          ]
        }
      ]
    },
    {
      "cell_type": "code",
      "source": [
        "x_axis = []\n",
        "y_axis = []\n",
        "dataset_len = len(df)\n",
        "for i in range(0,dataset_len):\n",
        "  x_axis.append(vis_dataset['numwords_in_article'][i])\n",
        "  y_axis.append(vis_dataset['headline_length'][i])\n",
        "\n",
        "#print(len(x_axis))"
      ],
      "metadata": {
        "id": "dWSpZEnUbfK6"
      },
      "execution_count": null,
      "outputs": []
    },
    {
      "cell_type": "code",
      "source": [
        "plt.figure(figsize=(10, 6))\n",
        "plt.bar(x_axis, y_axis, color='red')\n",
        "plt.title('Mean Paragraph Size vs. Headline Length after stop words removal')\n",
        "plt.xlabel('Paragraph Size without stopwords (Number of Words)')\n",
        "plt.ylabel('Headline Length')\n",
        "plt.grid(axis='y')\n",
        "plt.xlim(0, 1200)\n",
        "plt.show()"
      ],
      "metadata": {
        "colab": {
          "base_uri": "https://localhost:8080/",
          "height": 564
        },
        "id": "JJr0x6ZYbOZG",
        "outputId": "a74765b2-40f9-4e80-e90e-507f8ec056bc"
      },
      "execution_count": null,
      "outputs": [
        {
          "output_type": "display_data",
          "data": {
            "text/plain": [
              "<Figure size 1000x600 with 1 Axes>"
            ],
            "image/png": "[encoded data removed]"
          },
          "metadata": {}
        }
      ]
    },
    {
      "cell_type": "markdown",
      "source": [
        "# **Text Ranking Algorithm**"
      ],
      "metadata": {
        "id": "hTR5b3uTDmds"
      }
    },
    {
      "cell_type": "code",
      "source": [
        "!pip install gensim"
      ],
      "metadata": {
        "colab": {
          "base_uri": "https://localhost:8080/"
        },
        "id": "bwEGcZMfMpy8",
        "outputId": "876a646c-a263-451a-cb8c-b6825945e389"
      },
      "execution_count": null,
      "outputs": [
        {
          "output_type": "stream",
          "name": "stdout",
          "text": [
            "Requirement already satisfied: gensim in /usr/local/lib/python3.10/dist-packages (4.3.2)\n",
            "Requirement already satisfied: numpy>=1.18.5 in /usr/local/lib/python3.10/dist-packages (from gensim) (1.25.2)\n",
            "Requirement already satisfied: scipy>=1.7.0 in /usr/local/lib/python3.10/dist-packages (from gensim) (1.11.4)\n",
            "Requirement already satisfied: smart-open>=1.8.1 in /usr/local/lib/python3.10/dist-packages (from gensim) (6.4.0)\n"
          ]
        }
      ]
    },
    {
      "cell_type": "code",
      "source": [
        "from gensim.models import Word2Vec"
      ],
      "metadata": {
        "id": "pYrhRRGnLnTP"
      },
      "execution_count": null,
      "outputs": []
    },
    {
      "cell_type": "code",
      "source": [
        "!pip install scipy\n",
        "import scipy.spatial as spatial\n",
        "from scipy.spatial import distance"
      ],
      "metadata": {
        "colab": {
          "base_uri": "https://localhost:8080/"
        },
        "id": "ilzEa9OuQLwK",
        "outputId": "236acd05-d9b5-4cef-8e28-ed56f4d5a71e"
      },
      "execution_count": null,
      "outputs": [
        {
          "output_type": "stream",
          "name": "stdout",
          "text": [
            "Requirement already satisfied: scipy in /usr/local/lib/python3.10/dist-packages (1.11.4)\n",
            "Requirement already satisfied: numpy<1.28.0,>=1.21.6 in /usr/local/lib/python3.10/dist-packages (from scipy) (1.25.2)\n"
          ]
        }
      ]
    },
    {
      "cell_type": "code",
      "source": [
        "import networkx as nx"
      ],
      "metadata": {
        "id": "j1rzhcYrUmPm"
      },
      "execution_count": null,
      "outputs": []
    },
    {
      "cell_type": "code",
      "source": [
        "sentences=sent_tokenize(df[\"article\"][0])"
      ],
      "metadata": {
        "id": "EkBkIjKZhLZA"
      },
      "execution_count": null,
      "outputs": []
    },
    {
      "cell_type": "code",
      "source": [
        "zippath = \"/content/drive/MyDrive/Data sets/bbc-fulltext.zip\"\n",
        "# zippath = \"/content/bbc-fulltext.zip\"\n",
        "import zipfile\n",
        "\n",
        "with zipfile.ZipFile(zippath, 'r') as zip_ref:\n",
        "    zip_ref.extractall('data')\n",
        "import os\n",
        "import pandas as pd\n",
        "path = \"/content/data/bbc/\"\n",
        "\n",
        "a = []\n",
        "\n",
        "for folder in os.listdir(path):\n",
        "    fldr_path = os.path.join(path,folder)\n",
        "    if os.path.isdir(fldr_path):\n",
        "        for filee in os.listdir(fldr_path):\n",
        "            file_path = os.path.join(fldr_path,filee)\n",
        "            if os.path.isfile(file_path):\n",
        "                with open(file_path, 'r', encoding='utf-8') as file:\n",
        "\n",
        "                    lines = file.readlines()\n",
        "                    title = lines[0].strip()\n",
        "                    content = \" \".join(lines[1:])\n",
        "                    a.append({\"title\" :title , \"content\" : content.lstrip()})\n",
        "\n",
        "zipped_data = pd.DataFrame(a)\n",
        "#print(zipped_data,len(a))\n",
        "# print(zipped_data['content'])\n",
        "# print(zipped_data['title'])\n",
        "\n",
        "\n"
      ],
      "metadata": {
        "id": "E_KW04xoVp-4"
      },
      "execution_count": null,
      "outputs": []
    },
    {
      "cell_type": "code",
      "source": [
        "import re\n",
        "import numpy as np\n",
        "from nltk.tokenize import sent_tokenize\n",
        "from nltk.corpus import stopwords\n",
        "from gensim.models import Word2Vec\n",
        "from scipy.spatial import distance\n",
        "import networkx as nx\n",
        "\n",
        "class Leading_sentences_generation:\n",
        "\n",
        "    def __init__(self, df):\n",
        "        self.df = df\n",
        "        self.sentences = sent_tokenize(self.df)\n",
        "\n",
        "    def pre_process(self):\n",
        "        sentences_clean = [re.sub(r'[^\\w\\s]', '', sentence.lower()) for sentence in self.sentences]\n",
        "        stop_words = stopwords.words('english')\n",
        "        sentence_tokens = [[words for words in sentence.split(' ') if words not in stop_words] for sentence in sentences_clean]\n",
        "        return sentence_tokens\n",
        "\n",
        "    # def count_paragraphs(self):\n",
        "    #     val=self.df\n",
        "    #     paragraphs = re.split(r\"\\n\\n+\",val)\n",
        "    #     num_paragraphs = len(paragraphs)\n",
        "    #     print(\"num_paragraphs: \",num_paragraphs)\n",
        "\n",
        "    def count_paragraphs(self):\n",
        "        text=self.df\n",
        "        paragraphs = re.split(r'\\n\\s*\\n', text)\n",
        "        return (paragraphs,len(paragraphs))\n",
        "\n",
        "    def word2vec(self):\n",
        "        sentence_tokens = self.pre_process()\n",
        "        w2v = Word2Vec(sentence_tokens, vector_size=1, min_count=1, epochs=1000)\n",
        "        sentence_embeddings = []\n",
        "        max_len = max(len(tokens) for tokens in sentence_tokens)\n",
        "        for words in sentence_tokens:\n",
        "            embedding = [w2v.wv[word] for word in words]\n",
        "            padding_length = max_len - len(embedding)\n",
        "            padded_embedding = np.pad(embedding, [(0, padding_length), (0, 0)], mode='constant')\n",
        "            sentence_embeddings.append(padded_embedding)\n",
        "        return sentence_embeddings\n",
        "\n",
        "    def similarity_matrix(self):\n",
        "        sentence_tokens = self.pre_process()\n",
        "        sentence_embeddings = self.word2vec()\n",
        "        similarity_matrix = np.zeros([len(sentence_tokens), len(sentence_tokens)])\n",
        "        for i, row_embedding in enumerate(sentence_embeddings):\n",
        "            for j, column_embedding in enumerate(sentence_embeddings):\n",
        "                similarity_matrix[i][j] = 1 - distance.cosine(row_embedding.ravel(), column_embedding.ravel())\n",
        "        return similarity_matrix\n",
        "\n",
        "    def num_of_leadingsentences(self):\n",
        "        num_sentences = len(self.sentences)\n",
        "        if num_sentences < 5:\n",
        "            top = 1\n",
        "        elif num_sentences < 10:\n",
        "            top = 2\n",
        "        elif num_sentences < 25:\n",
        "            top = 4\n",
        "        elif num_sentences < 50:\n",
        "            top = 9\n",
        "        elif num_sentences < 100:\n",
        "            top = 18\n",
        "        elif num_sentences < 200:\n",
        "            top = 25\n",
        "        elif num_sentences >= 201:\n",
        "            top = 40\n",
        "        return top\n",
        "\n",
        "    def text_rank(self,num_sentences_to_extract):\n",
        "        li=[]\n",
        "        similarity_matrixs = self.similarity_matrix()\n",
        "        nx_graph = nx.from_numpy_array(similarity_matrixs)\n",
        "        scores = nx.pagerank(nx_graph)\n",
        "        top_sentence = {sentence: scores[index] for index, sentence in enumerate(self.sentences)}\n",
        "        top = dict(sorted(top_sentence.items(), key=lambda x: x[1], reverse=True)[:num_sentences_to_extract])\n",
        "        for sent in self.sentences:\n",
        "            if sent in top.keys():\n",
        "                li.append(sent)\n",
        "        return li"
      ],
      "metadata": {
        "id": "J2ReGXQqlBaB"
      },
      "execution_count": null,
      "outputs": []
    },
    {
      "cell_type": "code",
      "source": [
        "#added comments for better understanding and readability\n",
        "\n",
        "leading_sentences_corpus=[]\n",
        "for i in range(0, len(zipped_data)):\n",
        "    leading_sentences = []\n",
        "    content = df['content'][1]\n",
        "    LSG = Leading_sentences_generation(content)\n",
        "    article_info = LSG.count_paragraphs()\n",
        "\n",
        "    #if there is only one para in article then num_of_leading sentences are selected based on fixed constant\n",
        "    if article_info[1]==1:\n",
        "      num_sentences_to_extract=LSG.num_of_leadingsentences()\n",
        "      LSG_article = Leading_sentences_generation(str(article_info[0]))\n",
        "      leading_sentences.extend(LSG_article.text_rank(num_sentences_to_extract))\n",
        "      leading_sentences_corpus.append(leading_sentences)\n",
        "    else:\n",
        "      num_sentences_to_extract=1                   #if there are more than one paras in article\n",
        "      paragraphs = article_info[0]\n",
        "      #extracting one leading sentence from each paragraph\n",
        "      for para in paragraphs:\n",
        "          LSG = Leading_sentences_generation(para)\n",
        "          output = LSG.text_rank(num_sentences_to_extract)\n",
        "          leading_sentences.extend(output)\n",
        "      #extractig leading sentence from entire article\n",
        "      LSG_article = Leading_sentences_generation(para)\n",
        "      leading_sentences.extend(LSG_article.text_rank(num_sentences_to_extract))\n",
        "      #appending the leading sentences collected from an article to leading_Sentences_corpus\n",
        "      leading_sentences_corpus.append(leading_sentences)\n",
        "\n",
        "print(leading_sentences_corpus)"
      ],
      "metadata": {
        "colab": {
          "base_uri": "https://localhost:8080/"
        },
        "id": "ZFsK9EnjZ1tJ",
        "outputId": "2fea705d-86ab-44b5-f9c6-c6d7f6ea358e"
      },
      "execution_count": null,
      "outputs": [
        {
          "output_type": "stream",
          "name": "stdout",
          "text": [
            "[['Nikki Haley said her country would not stand by when chemical weapons were used, as it was in its \"vital interest\" to stop their proliferation.', 'It is also closing down a hotline with the US designed to avoid collisions between their air forces over Syria.', 'At least six people are reported to have been killed in the US missile strikes early on Friday.', 'Russia\\\\\\'s deputy ambassador to the UN, Vladimir Safronkov, described the US strikes as \"illegitimate\".', 'UK ambassador Matthew Rycroft said the strikes were a \"proportionate response to unspeakable acts\".', 'Cruise missiles fly low and have a relatively small radar cross-section so they are difficult to destroy with air defences.', 'Look at the ease with which the Israelis carry out strikes against Hezbollah arms convoys and weapons stores in Syria.', 'Some children and other people were injured by shards of breaking glass but no civilians were killed, another witness, Ammar al-Khedr, said.', 'Russia says it has formally notified the Pentagon that as of 21:00 GMT on Friday their air force hotline for Syrian airspace will close down.']]\n"
          ]
        }
      ]
    },
    {
      "cell_type": "markdown",
      "source": [
        "# Parsetree Generation"
      ],
      "metadata": {
        "id": "Z-FTc_gthSKX"
      }
    },
    {
      "cell_type": "code",
      "source": [],
      "metadata": {
        "id": "cuOD7J8aopOp"
      },
      "execution_count": null,
      "outputs": []
    }
  ]
}