{
  "nbformat": 4,
  "nbformat_minor": 0,
  "metadata": {
    "colab": {
      "provenance": [],
      "gpuType": "T4",
      "include_colab_link": true
    },
    "kernelspec": {
      "name": "python3",
      "display_name": "Python 3"
    },
    "language_info": {
      "name": "python"
    },
    "accelerator": "GPU"
  },
  "cells": [
    {
      "cell_type": "markdown",
      "metadata": {
        "id": "view-in-github",
        "colab_type": "text"
      },
      "source": [
        "<a href=\"https://colab.research.google.com/github/Harikaraja/News_headline_Generation-using-NLP/blob/main/Data_visualisation.ipynb\" target=\"_parent\"><img src=\"https://colab.research.google.com/assets/colab-badge.svg\" alt=\"Open In Colab\"/></a>"
      ]
    },
    {
      "cell_type": "code",
      "execution_count": 1,
      "metadata": {
        "id": "006BYbYR1pvd"
      },
      "outputs": [],
      "source": [
        "import numpy as np\n",
        "import pandas as pd\n",
        "import math\n",
        "import matplotlib.pyplot as plt\n",
        "import graphviz"
      ]
    },
    {
      "cell_type": "code",
      "source": [
        "import nltk\n",
        "nltk.download()"
      ],
      "metadata": {
        "colab": {
          "base_uri": "https://localhost:8080/"
        },
        "id": "zZ7tppH3TH3G",
        "outputId": "08f39827-ef2d-4f36-8fb3-4022b2b181e8"
      },
      "execution_count": 18,
      "outputs": [
        {
          "name": "stdout",
          "output_type": "stream",
          "text": [
            "NLTK Downloader\n",
            "---------------------------------------------------------------------------\n",
            "    d) Download   l) List    u) Update   c) Config   h) Help   q) Quit\n",
            "---------------------------------------------------------------------------\n",
            "Downloader> d\n",
            "\n",
            "Download which package (l=list; x=cancel)?\n",
            "  Identifier> l\n",
            "Packages:\n",
            "  [ ] abc................. Australian Broadcasting Commission 2006\n",
            "  [ ] alpino.............. Alpino Dutch Treebank\n",
            "  [ ] averaged_perceptron_tagger Averaged Perceptron Tagger\n",
            "  [ ] averaged_perceptron_tagger_ru Averaged Perceptron Tagger (Russian)\n",
            "  [ ] basque_grammars..... Grammars for Basque\n",
            "  [ ] bcp47............... BCP-47 Language Tags\n",
            "  [ ] biocreative_ppi..... BioCreAtIvE (Critical Assessment of Information\n",
            "                           Extraction Systems in Biology)\n",
            "  [ ] bllip_wsj_no_aux.... BLLIP Parser: WSJ Model\n",
            "  [ ] book_grammars....... Grammars from NLTK Book\n",
            "  [ ] brown............... Brown Corpus\n",
            "  [ ] brown_tei........... Brown Corpus (TEI XML Version)\n",
            "  [ ] cess_cat............ CESS-CAT Treebank\n",
            "  [ ] cess_esp............ CESS-ESP Treebank\n",
            "  [ ] chat80.............. Chat-80 Data Files\n",
            "  [ ] city_database....... City Database\n",
            "  [ ] cmudict............. The Carnegie Mellon Pronouncing Dictionary (0.6)\n",
            "  [ ] comparative_sentences Comparative Sentence Dataset\n",
            "  [ ] comtrans............ ComTrans Corpus Sample\n",
            "  [ ] conll2000........... CONLL 2000 Chunking Corpus\n",
            "Hit Enter to continue: \n",
            "  [ ] conll2002........... CONLL 2002 Named Entity Recognition Corpus\n",
            "  [ ] conll2007........... Dependency Treebanks from CoNLL 2007 (Catalan\n",
            "                           and Basque Subset)\n",
            "  [ ] crubadan............ Crubadan Corpus\n",
            "  [ ] dependency_treebank. Dependency Parsed Treebank\n",
            "  [ ] dolch............... Dolch Word List\n",
            "  [ ] europarl_raw........ Sample European Parliament Proceedings Parallel\n",
            "                           Corpus\n",
            "  [ ] extended_omw........ Extended Open Multilingual WordNet\n",
            "  [ ] floresta............ Portuguese Treebank\n",
            "  [ ] framenet_v15........ FrameNet 1.5\n",
            "  [ ] framenet_v17........ FrameNet 1.7\n",
            "  [ ] gazetteers.......... Gazeteer Lists\n",
            "  [ ] genesis............. Genesis Corpus\n",
            "  [ ] gutenberg........... Project Gutenberg Selections\n",
            "  [ ] ieer................ NIST IE-ER DATA SAMPLE\n",
            "  [ ] inaugural........... C-Span Inaugural Address Corpus\n",
            "  [ ] indian.............. Indian Language POS-Tagged Corpus\n",
            "  [ ] jeita............... JEITA Public Morphologically Tagged Corpus (in\n",
            "                           ChaSen format)\n",
            "  [ ] kimmo............... PC-KIMMO Data Files\n",
            "Hit Enter to continue: \n",
            "  [ ] knbc................ KNB Corpus (Annotated blog corpus)\n",
            "  [ ] large_grammars...... Large context-free and feature-based grammars\n",
            "                           for parser comparison\n",
            "  [ ] lin_thesaurus....... Lin's Dependency Thesaurus\n",
            "  [ ] mac_morpho.......... MAC-MORPHO: Brazilian Portuguese news text with\n",
            "                           part-of-speech tags\n",
            "  [ ] machado............. Machado de Assis -- Obra Completa\n",
            "  [ ] masc_tagged......... MASC Tagged Corpus\n",
            "  [ ] maxent_ne_chunker... ACE Named Entity Chunker (Maximum entropy)\n",
            "  [ ] maxent_treebank_pos_tagger Treebank Part of Speech Tagger (Maximum entropy)\n",
            "  [ ] moses_sample........ Moses Sample Models\n",
            "  [ ] movie_reviews....... Sentiment Polarity Dataset Version 2.0\n",
            "  [ ] mte_teip5........... MULTEXT-East 1984 annotated corpus 4.0\n",
            "  [ ] mwa_ppdb............ The monolingual word aligner (Sultan et al.\n",
            "                           2015) subset of the Paraphrase Database.\n",
            "  [ ] names............... Names Corpus, Version 1.3 (1994-03-29)\n",
            "  [ ] nombank.1.0......... NomBank Corpus 1.0\n",
            "  [ ] nonbreaking_prefixes Non-Breaking Prefixes (Moses Decoder)\n",
            "  [ ] nps_chat............ NPS Chat\n",
            "  [ ] omw-1.4............. Open Multilingual Wordnet\n",
            "  [ ] omw................. Open Multilingual Wordnet\n",
            "Hit Enter to continue: \n",
            "  [ ] opinion_lexicon..... Opinion Lexicon\n",
            "  [ ] panlex_swadesh...... PanLex Swadesh Corpora\n",
            "  [ ] paradigms........... Paradigm Corpus\n",
            "  [ ] pe08................ Cross-Framework and Cross-Domain Parser\n",
            "                           Evaluation Shared Task\n",
            "  [ ] perluniprops........ perluniprops: Index of Unicode Version 7.0.0\n",
            "                           character properties in Perl\n",
            "  [ ] pil................. The Patient Information Leaflet (PIL) Corpus\n",
            "  [ ] pl196x.............. Polish language of the XX century sixties\n",
            "  [ ] porter_test......... Porter Stemmer Test Files\n",
            "  [ ] ppattach............ Prepositional Phrase Attachment Corpus\n",
            "  [ ] problem_reports..... Problem Report Corpus\n",
            "  [ ] product_reviews_1... Product Reviews (5 Products)\n",
            "  [ ] product_reviews_2... Product Reviews (9 Products)\n",
            "  [ ] propbank............ Proposition Bank Corpus 1.0\n",
            "  [ ] pros_cons........... Pros and Cons\n",
            "  [ ] ptb................. Penn Treebank\n",
            "  [ ] punkt............... Punkt Tokenizer Models\n",
            "  [ ] qc.................. Experimental Data for Question Classification\n",
            "  [ ] reuters............. The Reuters-21578 benchmark corpus, ApteMod\n",
            "                           version\n",
            "Hit Enter to continue: \n",
            "  [ ] rslp................ RSLP Stemmer (Removedor de Sufixos da Lingua\n",
            "                           Portuguesa)\n",
            "  [ ] rte................. PASCAL RTE Challenges 1, 2, and 3\n",
            "  [ ] sample_grammars..... Sample Grammars\n",
            "  [ ] semcor.............. SemCor 3.0\n",
            "  [ ] senseval............ SENSEVAL 2 Corpus: Sense Tagged Text\n",
            "  [ ] sentence_polarity... Sentence Polarity Dataset v1.0\n",
            "  [ ] sentiwordnet........ SentiWordNet\n",
            "  [ ] shakespeare......... Shakespeare XML Corpus Sample\n",
            "  [ ] sinica_treebank..... Sinica Treebank Corpus Sample\n",
            "  [ ] smultron............ SMULTRON Corpus Sample\n",
            "  [ ] snowball_data....... Snowball Data\n",
            "  [ ] spanish_grammars.... Grammars for Spanish\n",
            "  [ ] state_union......... C-Span State of the Union Address Corpus\n",
            "  [ ] stopwords........... Stopwords Corpus\n",
            "  [ ] subjectivity........ Subjectivity Dataset v1.0\n",
            "  [ ] swadesh............. Swadesh Wordlists\n",
            "  [ ] switchboard......... Switchboard Corpus Sample\n",
            "  [ ] tagsets............. Help on Tagsets\n",
            "  [ ] timit............... TIMIT Corpus Sample\n",
            "  [ ] toolbox............. Toolbox Sample Files\n",
            "Hit Enter to continue: \n",
            "  [ ] treebank............ Penn Treebank Sample\n",
            "  [ ] twitter_samples..... Twitter Samples\n",
            "  [ ] udhr2............... Universal Declaration of Human Rights Corpus\n",
            "                           (Unicode Version)\n",
            "  [ ] udhr................ Universal Declaration of Human Rights Corpus\n",
            "  [ ] unicode_samples..... Unicode Samples\n",
            "  [ ] universal_tagset.... Mappings to the Universal Part-of-Speech Tagset\n",
            "  [ ] universal_treebanks_v20 Universal Treebanks Version 2.0\n",
            "  [ ] vader_lexicon....... VADER Sentiment Lexicon\n",
            "  [ ] verbnet3............ VerbNet Lexicon, Version 3.3\n",
            "  [ ] verbnet............. VerbNet Lexicon, Version 2.1\n",
            "  [ ] webtext............. Web Text Corpus\n",
            "  [ ] wmt15_eval.......... Evaluation data from WMT15\n",
            "  [ ] word2vec_sample..... Word2Vec Sample\n",
            "  [ ] wordnet2021......... Open English Wordnet 2021\n",
            "  [ ] wordnet2022......... Open English Wordnet 2022\n",
            "  [ ] wordnet31........... Wordnet 3.1\n",
            "  [ ] wordnet............. WordNet\n",
            "  [ ] wordnet_ic.......... WordNet-InfoContent\n",
            "  [ ] words............... Word Lists\n",
            "  [ ] ycoe................ York-Toronto-Helsinki Parsed Corpus of Old\n",
            "                           English Prose\n",
            "Hit Enter to continue: \n",
            "\n",
            "Collections:\n",
            "  [ ] all-corpora......... All the corpora\n",
            "  [ ] all-nltk............ All packages available on nltk_data gh-pages\n",
            "                           branch\n",
            "  [ ] all................. All packages\n",
            "  [ ] book................ Everything used in the NLTK Book\n",
            "  [ ] popular............. Popular packages\n",
            "  [ ] tests............... Packages for running tests\n",
            "  [ ] third-party......... Third-party data packages\n",
            "\n",
            "([*] marks installed packages)\n",
            "\n",
            "Download which package (l=list; x=cancel)?\n",
            "  Identifier> l\n",
            "Packages:\n",
            "  [ ] abc................. Australian Broadcasting Commission 2006\n",
            "  [ ] alpino.............. Alpino Dutch Treebank\n",
            "  [ ] averaged_perceptron_tagger Averaged Perceptron Tagger\n",
            "  [ ] averaged_perceptron_tagger_ru Averaged Perceptron Tagger (Russian)\n",
            "  [ ] basque_grammars..... Grammars for Basque\n",
            "  [ ] bcp47............... BCP-47 Language Tags\n",
            "  [ ] biocreative_ppi..... BioCreAtIvE (Critical Assessment of Information\n",
            "                           Extraction Systems in Biology)\n",
            "  [ ] bllip_wsj_no_aux.... BLLIP Parser: WSJ Model\n",
            "  [ ] book_grammars....... Grammars from NLTK Book\n",
            "  [ ] brown............... Brown Corpus\n",
            "  [ ] brown_tei........... Brown Corpus (TEI XML Version)\n",
            "  [ ] cess_cat............ CESS-CAT Treebank\n",
            "  [ ] cess_esp............ CESS-ESP Treebank\n",
            "  [ ] chat80.............. Chat-80 Data Files\n",
            "  [ ] city_database....... City Database\n",
            "  [ ] cmudict............. The Carnegie Mellon Pronouncing Dictionary (0.6)\n",
            "  [ ] comparative_sentences Comparative Sentence Dataset\n",
            "  [ ] comtrans............ ComTrans Corpus Sample\n",
            "  [ ] conll2000........... CONLL 2000 Chunking Corpus\n",
            "Hit Enter to continue: \n",
            "  [ ] conll2002........... CONLL 2002 Named Entity Recognition Corpus\n",
            "  [ ] conll2007........... Dependency Treebanks from CoNLL 2007 (Catalan\n",
            "                           and Basque Subset)\n",
            "  [ ] crubadan............ Crubadan Corpus\n",
            "  [ ] dependency_treebank. Dependency Parsed Treebank\n",
            "  [ ] dolch............... Dolch Word List\n",
            "  [ ] europarl_raw........ Sample European Parliament Proceedings Parallel\n",
            "                           Corpus\n",
            "  [ ] extended_omw........ Extended Open Multilingual WordNet\n",
            "  [ ] floresta............ Portuguese Treebank\n",
            "  [ ] framenet_v15........ FrameNet 1.5\n",
            "  [ ] framenet_v17........ FrameNet 1.7\n",
            "  [ ] gazetteers.......... Gazeteer Lists\n",
            "  [ ] genesis............. Genesis Corpus\n",
            "  [ ] gutenberg........... Project Gutenberg Selections\n",
            "  [ ] ieer................ NIST IE-ER DATA SAMPLE\n",
            "  [ ] inaugural........... C-Span Inaugural Address Corpus\n",
            "  [ ] indian.............. Indian Language POS-Tagged Corpus\n",
            "  [ ] jeita............... JEITA Public Morphologically Tagged Corpus (in\n",
            "                           ChaSen format)\n",
            "  [ ] kimmo............... PC-KIMMO Data Files\n",
            "Hit Enter to continue: \n",
            "  [ ] knbc................ KNB Corpus (Annotated blog corpus)\n",
            "  [ ] large_grammars...... Large context-free and feature-based grammars\n",
            "                           for parser comparison\n",
            "  [ ] lin_thesaurus....... Lin's Dependency Thesaurus\n",
            "  [ ] mac_morpho.......... MAC-MORPHO: Brazilian Portuguese news text with\n",
            "                           part-of-speech tags\n",
            "  [ ] machado............. Machado de Assis -- Obra Completa\n",
            "  [ ] masc_tagged......... MASC Tagged Corpus\n",
            "  [ ] maxent_ne_chunker... ACE Named Entity Chunker (Maximum entropy)\n",
            "  [ ] maxent_treebank_pos_tagger Treebank Part of Speech Tagger (Maximum entropy)\n",
            "  [ ] moses_sample........ Moses Sample Models\n",
            "  [ ] movie_reviews....... Sentiment Polarity Dataset Version 2.0\n",
            "  [ ] mte_teip5........... MULTEXT-East 1984 annotated corpus 4.0\n",
            "  [ ] mwa_ppdb............ The monolingual word aligner (Sultan et al.\n",
            "                           2015) subset of the Paraphrase Database.\n",
            "  [ ] names............... Names Corpus, Version 1.3 (1994-03-29)\n",
            "  [ ] nombank.1.0......... NomBank Corpus 1.0\n",
            "  [ ] nonbreaking_prefixes Non-Breaking Prefixes (Moses Decoder)\n",
            "  [ ] nps_chat............ NPS Chat\n",
            "  [ ] omw-1.4............. Open Multilingual Wordnet\n",
            "  [ ] omw................. Open Multilingual Wordnet\n",
            "Hit Enter to continue: \n",
            "  [ ] opinion_lexicon..... Opinion Lexicon\n",
            "  [ ] panlex_swadesh...... PanLex Swadesh Corpora\n",
            "  [ ] paradigms........... Paradigm Corpus\n",
            "  [ ] pe08................ Cross-Framework and Cross-Domain Parser\n",
            "                           Evaluation Shared Task\n",
            "  [ ] perluniprops........ perluniprops: Index of Unicode Version 7.0.0\n",
            "                           character properties in Perl\n",
            "  [ ] pil................. The Patient Information Leaflet (PIL) Corpus\n",
            "  [ ] pl196x.............. Polish language of the XX century sixties\n",
            "  [ ] porter_test......... Porter Stemmer Test Files\n",
            "  [ ] ppattach............ Prepositional Phrase Attachment Corpus\n",
            "  [ ] problem_reports..... Problem Report Corpus\n",
            "  [ ] product_reviews_1... Product Reviews (5 Products)\n",
            "  [ ] product_reviews_2... Product Reviews (9 Products)\n",
            "  [ ] propbank............ Proposition Bank Corpus 1.0\n",
            "  [ ] pros_cons........... Pros and Cons\n",
            "  [ ] ptb................. Penn Treebank\n",
            "  [ ] punkt............... Punkt Tokenizer Models\n",
            "  [ ] qc.................. Experimental Data for Question Classification\n",
            "  [ ] reuters............. The Reuters-21578 benchmark corpus, ApteMod\n",
            "                           version\n",
            "Hit Enter to continue: \n",
            "  [ ] rslp................ RSLP Stemmer (Removedor de Sufixos da Lingua\n",
            "                           Portuguesa)\n",
            "  [ ] rte................. PASCAL RTE Challenges 1, 2, and 3\n",
            "  [ ] sample_grammars..... Sample Grammars\n",
            "  [ ] semcor.............. SemCor 3.0\n",
            "  [ ] senseval............ SENSEVAL 2 Corpus: Sense Tagged Text\n",
            "  [ ] sentence_polarity... Sentence Polarity Dataset v1.0\n",
            "  [ ] sentiwordnet........ SentiWordNet\n",
            "  [ ] shakespeare......... Shakespeare XML Corpus Sample\n",
            "  [ ] sinica_treebank..... Sinica Treebank Corpus Sample\n",
            "  [ ] smultron............ SMULTRON Corpus Sample\n",
            "  [ ] snowball_data....... Snowball Data\n",
            "  [ ] spanish_grammars.... Grammars for Spanish\n",
            "  [ ] state_union......... C-Span State of the Union Address Corpus\n",
            "  [ ] stopwords........... Stopwords Corpus\n",
            "  [ ] subjectivity........ Subjectivity Dataset v1.0\n",
            "  [ ] swadesh............. Swadesh Wordlists\n",
            "  [ ] switchboard......... Switchboard Corpus Sample\n",
            "  [ ] tagsets............. Help on Tagsets\n",
            "  [ ] timit............... TIMIT Corpus Sample\n",
            "  [ ] toolbox............. Toolbox Sample Files\n",
            "Hit Enter to continue: \n",
            "  [ ] treebank............ Penn Treebank Sample\n",
            "  [ ] twitter_samples..... Twitter Samples\n",
            "  [ ] udhr2............... Universal Declaration of Human Rights Corpus\n",
            "                           (Unicode Version)\n",
            "  [ ] udhr................ Universal Declaration of Human Rights Corpus\n",
            "  [ ] unicode_samples..... Unicode Samples\n",
            "  [ ] universal_tagset.... Mappings to the Universal Part-of-Speech Tagset\n",
            "  [ ] universal_treebanks_v20 Universal Treebanks Version 2.0\n",
            "  [ ] vader_lexicon....... VADER Sentiment Lexicon\n",
            "  [ ] verbnet3............ VerbNet Lexicon, Version 3.3\n",
            "  [ ] verbnet............. VerbNet Lexicon, Version 2.1\n",
            "  [ ] webtext............. Web Text Corpus\n",
            "  [ ] wmt15_eval.......... Evaluation data from WMT15\n",
            "  [ ] word2vec_sample..... Word2Vec Sample\n",
            "  [ ] wordnet2021......... Open English Wordnet 2021\n",
            "  [ ] wordnet2022......... Open English Wordnet 2022\n",
            "  [ ] wordnet31........... Wordnet 3.1\n",
            "  [ ] wordnet............. WordNet\n",
            "  [ ] wordnet_ic.......... WordNet-InfoContent\n",
            "  [ ] words............... Word Lists\n",
            "  [ ] ycoe................ York-Toronto-Helsinki Parsed Corpus of Old\n",
            "                           English Prose\n",
            "Hit Enter to continue: \n",
            "\n",
            "Collections:\n",
            "  [ ] all-corpora......... All the corpora\n",
            "  [ ] all-nltk............ All packages available on nltk_data gh-pages\n",
            "                           branch\n",
            "  [ ] all................. All packages\n",
            "  [ ] book................ Everything used in the NLTK Book\n",
            "  [ ] popular............. Popular packages\n",
            "  [ ] tests............... Packages for running tests\n",
            "  [ ] third-party......... Third-party data packages\n",
            "\n",
            "([*] marks installed packages)\n",
            "\n",
            "Download which package (l=list; x=cancel)?\n",
            "  Identifier> l\n",
            "Packages:\n",
            "  [ ] abc................. Australian Broadcasting Commission 2006\n",
            "  [ ] alpino.............. Alpino Dutch Treebank\n",
            "  [ ] averaged_perceptron_tagger Averaged Perceptron Tagger\n",
            "  [ ] averaged_perceptron_tagger_ru Averaged Perceptron Tagger (Russian)\n",
            "  [ ] basque_grammars..... Grammars for Basque\n",
            "  [ ] bcp47............... BCP-47 Language Tags\n",
            "  [ ] biocreative_ppi..... BioCreAtIvE (Critical Assessment of Information\n",
            "                           Extraction Systems in Biology)\n",
            "  [ ] bllip_wsj_no_aux.... BLLIP Parser: WSJ Model\n",
            "  [ ] book_grammars....... Grammars from NLTK Book\n",
            "  [ ] brown............... Brown Corpus\n",
            "  [ ] brown_tei........... Brown Corpus (TEI XML Version)\n",
            "  [ ] cess_cat............ CESS-CAT Treebank\n",
            "  [ ] cess_esp............ CESS-ESP Treebank\n",
            "  [ ] chat80.............. Chat-80 Data Files\n",
            "  [ ] city_database....... City Database\n",
            "  [ ] cmudict............. The Carnegie Mellon Pronouncing Dictionary (0.6)\n",
            "  [ ] comparative_sentences Comparative Sentence Dataset\n",
            "  [ ] comtrans............ ComTrans Corpus Sample\n",
            "  [ ] conll2000........... CONLL 2000 Chunking Corpus\n",
            "Hit Enter to continue: \n",
            "  [ ] conll2002........... CONLL 2002 Named Entity Recognition Corpus\n",
            "  [ ] conll2007........... Dependency Treebanks from CoNLL 2007 (Catalan\n",
            "                           and Basque Subset)\n",
            "  [ ] crubadan............ Crubadan Corpus\n",
            "  [ ] dependency_treebank. Dependency Parsed Treebank\n",
            "  [ ] dolch............... Dolch Word List\n",
            "  [ ] europarl_raw........ Sample European Parliament Proceedings Parallel\n",
            "                           Corpus\n",
            "  [ ] extended_omw........ Extended Open Multilingual WordNet\n",
            "  [ ] floresta............ Portuguese Treebank\n",
            "  [ ] framenet_v15........ FrameNet 1.5\n",
            "  [ ] framenet_v17........ FrameNet 1.7\n",
            "  [ ] gazetteers.......... Gazeteer Lists\n",
            "  [ ] genesis............. Genesis Corpus\n",
            "  [ ] gutenberg........... Project Gutenberg Selections\n",
            "  [ ] ieer................ NIST IE-ER DATA SAMPLE\n",
            "  [ ] inaugural........... C-Span Inaugural Address Corpus\n",
            "  [ ] indian.............. Indian Language POS-Tagged Corpus\n",
            "  [ ] jeita............... JEITA Public Morphologically Tagged Corpus (in\n",
            "                           ChaSen format)\n",
            "  [ ] kimmo............... PC-KIMMO Data Files\n",
            "Hit Enter to continue: \n",
            "  [ ] knbc................ KNB Corpus (Annotated blog corpus)\n",
            "  [ ] large_grammars...... Large context-free and feature-based grammars\n",
            "                           for parser comparison\n",
            "  [ ] lin_thesaurus....... Lin's Dependency Thesaurus\n",
            "  [ ] mac_morpho.......... MAC-MORPHO: Brazilian Portuguese news text with\n",
            "                           part-of-speech tags\n",
            "  [ ] machado............. Machado de Assis -- Obra Completa\n",
            "  [ ] masc_tagged......... MASC Tagged Corpus\n",
            "  [ ] maxent_ne_chunker... ACE Named Entity Chunker (Maximum entropy)\n",
            "  [ ] maxent_treebank_pos_tagger Treebank Part of Speech Tagger (Maximum entropy)\n",
            "  [ ] moses_sample........ Moses Sample Models\n",
            "  [ ] movie_reviews....... Sentiment Polarity Dataset Version 2.0\n",
            "  [ ] mte_teip5........... MULTEXT-East 1984 annotated corpus 4.0\n",
            "  [ ] mwa_ppdb............ The monolingual word aligner (Sultan et al.\n",
            "                           2015) subset of the Paraphrase Database.\n",
            "  [ ] names............... Names Corpus, Version 1.3 (1994-03-29)\n",
            "  [ ] nombank.1.0......... NomBank Corpus 1.0\n",
            "  [ ] nonbreaking_prefixes Non-Breaking Prefixes (Moses Decoder)\n",
            "  [ ] nps_chat............ NPS Chat\n",
            "  [ ] omw-1.4............. Open Multilingual Wordnet\n",
            "  [ ] omw................. Open Multilingual Wordnet\n",
            "Hit Enter to continue: \n",
            "  [ ] opinion_lexicon..... Opinion Lexicon\n",
            "  [ ] panlex_swadesh...... PanLex Swadesh Corpora\n",
            "  [ ] paradigms........... Paradigm Corpus\n",
            "  [ ] pe08................ Cross-Framework and Cross-Domain Parser\n",
            "                           Evaluation Shared Task\n",
            "  [ ] perluniprops........ perluniprops: Index of Unicode Version 7.0.0\n",
            "                           character properties in Perl\n",
            "  [ ] pil................. The Patient Information Leaflet (PIL) Corpus\n",
            "  [ ] pl196x.............. Polish language of the XX century sixties\n",
            "  [ ] porter_test......... Porter Stemmer Test Files\n",
            "  [ ] ppattach............ Prepositional Phrase Attachment Corpus\n",
            "  [ ] problem_reports..... Problem Report Corpus\n",
            "  [ ] product_reviews_1... Product Reviews (5 Products)\n",
            "  [ ] product_reviews_2... Product Reviews (9 Products)\n",
            "  [ ] propbank............ Proposition Bank Corpus 1.0\n",
            "  [ ] pros_cons........... Pros and Cons\n",
            "  [ ] ptb................. Penn Treebank\n",
            "  [ ] punkt............... Punkt Tokenizer Models\n",
            "  [ ] qc.................. Experimental Data for Question Classification\n",
            "  [ ] reuters............. The Reuters-21578 benchmark corpus, ApteMod\n",
            "                           version\n",
            "Hit Enter to continue: \n",
            "  [ ] rslp................ RSLP Stemmer (Removedor de Sufixos da Lingua\n",
            "                           Portuguesa)\n",
            "  [ ] rte................. PASCAL RTE Challenges 1, 2, and 3\n",
            "  [ ] sample_grammars..... Sample Grammars\n",
            "  [ ] semcor.............. SemCor 3.0\n",
            "  [ ] senseval............ SENSEVAL 2 Corpus: Sense Tagged Text\n",
            "  [ ] sentence_polarity... Sentence Polarity Dataset v1.0\n",
            "  [ ] sentiwordnet........ SentiWordNet\n",
            "  [ ] shakespeare......... Shakespeare XML Corpus Sample\n",
            "  [ ] sinica_treebank..... Sinica Treebank Corpus Sample\n",
            "  [ ] smultron............ SMULTRON Corpus Sample\n",
            "  [ ] snowball_data....... Snowball Data\n",
            "  [ ] spanish_grammars.... Grammars for Spanish\n",
            "  [ ] state_union......... C-Span State of the Union Address Corpus\n",
            "  [ ] stopwords........... Stopwords Corpus\n",
            "  [ ] subjectivity........ Subjectivity Dataset v1.0\n",
            "  [ ] swadesh............. Swadesh Wordlists\n",
            "  [ ] switchboard......... Switchboard Corpus Sample\n",
            "  [ ] tagsets............. Help on Tagsets\n",
            "  [ ] timit............... TIMIT Corpus Sample\n",
            "  [ ] toolbox............. Toolbox Sample Files\n",
            "Hit Enter to continue: \n",
            "  [ ] treebank............ Penn Treebank Sample\n",
            "  [ ] twitter_samples..... Twitter Samples\n",
            "  [ ] udhr2............... Universal Declaration of Human Rights Corpus\n",
            "                           (Unicode Version)\n",
            "  [ ] udhr................ Universal Declaration of Human Rights Corpus\n",
            "  [ ] unicode_samples..... Unicode Samples\n",
            "  [ ] universal_tagset.... Mappings to the Universal Part-of-Speech Tagset\n",
            "  [ ] universal_treebanks_v20 Universal Treebanks Version 2.0\n",
            "  [ ] vader_lexicon....... VADER Sentiment Lexicon\n",
            "  [ ] verbnet3............ VerbNet Lexicon, Version 3.3\n",
            "  [ ] verbnet............. VerbNet Lexicon, Version 2.1\n",
            "  [ ] webtext............. Web Text Corpus\n",
            "  [ ] wmt15_eval.......... Evaluation data from WMT15\n",
            "  [ ] word2vec_sample..... Word2Vec Sample\n",
            "  [ ] wordnet2021......... Open English Wordnet 2021\n",
            "  [ ] wordnet2022......... Open English Wordnet 2022\n",
            "  [ ] wordnet31........... Wordnet 3.1\n",
            "  [ ] wordnet............. WordNet\n",
            "  [ ] wordnet_ic.......... WordNet-InfoContent\n",
            "  [ ] words............... Word Lists\n",
            "  [ ] ycoe................ York-Toronto-Helsinki Parsed Corpus of Old\n",
            "                           English Prose\n",
            "Hit Enter to continue: \n",
            "\n",
            "Collections:\n",
            "  [ ] all-corpora......... All the corpora\n",
            "  [ ] all-nltk............ All packages available on nltk_data gh-pages\n",
            "                           branch\n",
            "  [ ] all................. All packages\n",
            "  [ ] book................ Everything used in the NLTK Book\n",
            "  [ ] popular............. Popular packages\n",
            "  [ ] tests............... Packages for running tests\n",
            "  [ ] third-party......... Third-party data packages\n",
            "\n",
            "([*] marks installed packages)\n",
            "\n",
            "Download which package (l=list; x=cancel)?\n",
            "  Identifier> x\n",
            "\n",
            "---------------------------------------------------------------------------\n",
            "    d) Download   l) List    u) Update   c) Config   h) Help   q) Quit\n",
            "---------------------------------------------------------------------------\n",
            "Downloader> q\n"
          ]
        },
        {
          "output_type": "execute_result",
          "data": {
            "text/plain": [
              "True"
            ]
          },
          "metadata": {},
          "execution_count": 18
        }
      ]
    },
    {
      "cell_type": "code",
      "source": [
        "nltk.download('punkt')"
      ],
      "metadata": {
        "colab": {
          "base_uri": "https://localhost:8080/"
        },
        "id": "pMJYidpGUyih",
        "outputId": "d75c9e3a-8d01-4695-b9f1-42f2c4e5c5b4"
      },
      "execution_count": 22,
      "outputs": [
        {
          "output_type": "stream",
          "name": "stderr",
          "text": [
            "[nltk_data] Downloading package punkt to /root/nltk_data...\n",
            "[nltk_data]   Unzipping tokenizers/punkt.zip.\n"
          ]
        },
        {
          "output_type": "execute_result",
          "data": {
            "text/plain": [
              "True"
            ]
          },
          "metadata": {},
          "execution_count": 22
        }
      ]
    },
    {
      "cell_type": "code",
      "source": [
        "from google.colab import drive\n",
        "drive.mount('/content/drive')\n",
        "path = \"/content/drive/MyDrive/BBC_08_APR_17_to_08_JUN_2017.csv\""
      ],
      "metadata": {
        "colab": {
          "base_uri": "https://localhost:8080/"
        },
        "id": "6F6mjmCM19si",
        "outputId": "061f4c3c-fd05-43d4-d138-ece66a6449a9"
      },
      "execution_count": 19,
      "outputs": [
        {
          "output_type": "stream",
          "name": "stdout",
          "text": [
            "Drive already mounted at /content/drive; to attempt to forcibly remount, call drive.mount(\"/content/drive\", force_remount=True).\n"
          ]
        }
      ]
    },
    {
      "cell_type": "code",
      "source": [
        "df = pd.read_csv(path)"
      ],
      "metadata": {
        "id": "UlwpDL1b2hka"
      },
      "execution_count": 3,
      "outputs": []
    },
    {
      "cell_type": "code",
      "source": [
        "print(df)"
      ],
      "metadata": {
        "colab": {
          "base_uri": "https://localhost:8080/"
        },
        "id": "Gr623lXO2nVG",
        "outputId": "9025790b-ff08-4890-f68e-bbc6a6ca26dc"
      },
      "execution_count": 4,
      "outputs": [
        {
          "output_type": "stream",
          "name": "stdout",
          "text": [
            "                                               article  \\\n",
            "0    Syria war: US warns of 'more' after missile st...   \n",
            "1    Stockholm lorry rams crowds, killing 'at least...   \n",
            "2    DR Congo: Bruno Tshibala appointed new prime m...   \n",
            "3    Norway to build landmark ship tunnel Norway is...   \n",
            "4    Trump to make China visit after hosting Xi for...   \n",
            "..                                                 ...   \n",
            "983  Uber 'obtained rape victim's medical records' ...   \n",
            "984  London attack: Family pays tribute to 'beautif...   \n",
            "985  Mozambique police warn bald men after ritual a...   \n",
            "986  Burmese military plane vanishes over Andaman S...   \n",
            "987  Oldest female wing-walker beats record A darin...   \n",
            "\n",
            "                       date panda_date  \\\n",
            "0    Saturday 08 April 2017   8-Apr-17   \n",
            "1    Saturday 08 April 2017   8-Apr-17   \n",
            "2    Saturday 08 April 2017   8-Apr-17   \n",
            "3    Saturday 08 April 2017   8-Apr-17   \n",
            "4    Saturday 08 April 2017   8-Apr-17   \n",
            "..                      ...        ...   \n",
            "983   Thursday 08 June 2017   8-Jun-17   \n",
            "984   Thursday 08 June 2017   8-Jun-17   \n",
            "985   Thursday 08 June 2017   8-Jun-17   \n",
            "986   Thursday 08 June 2017   8-Jun-17   \n",
            "987   Thursday 08 June 2017   8-Jun-17   \n",
            "\n",
            "                                     headline  \\\n",
            "0        US warns Syria it's ready for 'more'   \n",
            "1          Deaths as lorry rams Swedish store   \n",
            "2       New PM Tshibala appointed in DR Congo   \n",
            "3        Norway to build landmark ship tunnel   \n",
            "4             Trump to make China state visit   \n",
            "..                                        ...   \n",
            "983     Uber 'obtained rape victim's records'   \n",
            "984  Family's tribute to London attack victim   \n",
            "985  Police warn bald men after ritual attack   \n",
            "986           Burmese military plane vanishes   \n",
            "987    Oldest female wing-walker beats record   \n",
            "\n",
            "                                               summary  \\\n",
            "0    Its ambassador to the UN says America will not...   \n",
            "1    At least four people are reported killed in a ...   \n",
            "2    The appointment is likely further divide oppon...   \n",
            "3    The country is taking radical steps to try and...   \n",
            "4    Mr Trump accepts the Chinese President Xi Jinp...   \n",
            "..                                                 ...   \n",
            "983  An Uber executive is fired after it is reporte...   \n",
            "984  Sara Zelenak was a 'beautiful daughter' her fa...   \n",
            "985  Some people in Mozambique believe that the hea...   \n",
            "986  Search and rescue efforts are under way off My...   \n",
            "987  Betty Bromage took to the skies over Glouceste...   \n",
            "\n",
            "                                                   url  \n",
            "0    http://www.bbc.com/news/world-middle-east-3952...  \n",
            "1        http://www.bbc.com/news/world-europe-39531108  \n",
            "2        http://www.bbc.com/news/world-africa-39536132  \n",
            "3        http://www.bbc.com/news/world-europe-39521570  \n",
            "4     http://www.bbc.com/news/world-us-canada-39535828  \n",
            "..                                                 ...  \n",
            "983        http://www.bbc.com/news/technology-40196055  \n",
            "984                http://www.bbc.com/news/uk-40187366  \n",
            "985      http://www.bbc.com/news/world-africa-40185359  \n",
            "986        http://www.bbc.com/news/world-asia-40188801  \n",
            "987  http://www.bbc.com/news/uk-england-gloucesters...  \n",
            "\n",
            "[988 rows x 6 columns]\n"
          ]
        }
      ]
    },
    {
      "cell_type": "code",
      "source": [
        "print(df[\"article\"])"
      ],
      "metadata": {
        "colab": {
          "base_uri": "https://localhost:8080/"
        },
        "id": "7AsoJQon3AUy",
        "outputId": "74d31a6e-47f7-4dd3-8bbe-f1e7d623ba07"
      },
      "execution_count": 5,
      "outputs": [
        {
          "output_type": "stream",
          "name": "stdout",
          "text": [
            "0      Syria war: US warns of 'more' after missile st...\n",
            "1      Stockholm lorry rams crowds, killing 'at least...\n",
            "2      DR Congo: Bruno Tshibala appointed new prime m...\n",
            "3      Norway to build landmark ship tunnel Norway is...\n",
            "4      Trump to make China visit after hosting Xi for...\n",
            "                             ...                        \n",
            "983    Uber 'obtained rape victim's medical records' ...\n",
            "984    London attack: Family pays tribute to 'beautif...\n",
            "985    Mozambique police warn bald men after ritual a...\n",
            "986    Burmese military plane vanishes over Andaman S...\n",
            "987    Oldest female wing-walker beats record A darin...\n",
            "Name: article, Length: 988, dtype: object\n"
          ]
        }
      ]
    },
    {
      "cell_type": "code",
      "source": [
        "print(df[\"headline\"])"
      ],
      "metadata": {
        "colab": {
          "base_uri": "https://localhost:8080/"
        },
        "id": "Iw4NuRGs3KDM",
        "outputId": "997f3620-c3f6-4813-ff85-ff12357cfbf3"
      },
      "execution_count": 6,
      "outputs": [
        {
          "output_type": "stream",
          "name": "stdout",
          "text": [
            "0          US warns Syria it's ready for 'more'\n",
            "1            Deaths as lorry rams Swedish store\n",
            "2         New PM Tshibala appointed in DR Congo\n",
            "3          Norway to build landmark ship tunnel\n",
            "4               Trump to make China state visit\n",
            "                         ...                   \n",
            "983       Uber 'obtained rape victim's records'\n",
            "984    Family's tribute to London attack victim\n",
            "985    Police warn bald men after ritual attack\n",
            "986             Burmese military plane vanishes\n",
            "987      Oldest female wing-walker beats record\n",
            "Name: headline, Length: 988, dtype: object\n"
          ]
        }
      ]
    },
    {
      "cell_type": "code",
      "source": [
        "print(len(df))"
      ],
      "metadata": {
        "colab": {
          "base_uri": "https://localhost:8080/"
        },
        "id": "Km1JiecA3ReB",
        "outputId": "8969d499-9d55-415a-acf2-d481a3dcde70"
      },
      "execution_count": 7,
      "outputs": [
        {
          "output_type": "stream",
          "name": "stdout",
          "text": [
            "988\n"
          ]
        }
      ]
    },
    {
      "cell_type": "code",
      "source": [
        "articles = list(df[\"article\"])"
      ],
      "metadata": {
        "id": "t4z0bPKrSK0D"
      },
      "execution_count": 8,
      "outputs": []
    },
    {
      "cell_type": "markdown",
      "source": [
        "Sentence Lowering"
      ],
      "metadata": {
        "id": "OY5Z9f8pU4UN"
      }
    },
    {
      "cell_type": "code",
      "source": [
        "lowercased_li = [sentence.lower() for sentence in articles]\n",
        "print(len(lowercased_li))"
      ],
      "metadata": {
        "colab": {
          "base_uri": "https://localhost:8080/"
        },
        "id": "7OlTL2NyU3jF",
        "outputId": "b2e2fb80-3c65-4883-f570-f4c0149c75be"
      },
      "execution_count": 36,
      "outputs": [
        {
          "output_type": "stream",
          "name": "stdout",
          "text": [
            "988\n"
          ]
        }
      ]
    },
    {
      "cell_type": "markdown",
      "source": [
        "**Removing remove non-word and non-whitespace characters**"
      ],
      "metadata": {
        "id": "UzrfwB6xVrkJ"
      }
    },
    {
      "cell_type": "code",
      "source": [
        "import re\n",
        "\n",
        "# Your list\n",
        "rnw=[]\n",
        "\n",
        "# Function to apply the regex replacement\n",
        "def apply_regex(text):\n",
        "    return re.sub(r'[^\\w\\s]', '', text)\n",
        "\n",
        "# Apply the function to each element in the list\n",
        "rnw = [apply_regex(entry) for entry in lowercased_li]\n",
        "print(len(rnw))"
      ],
      "metadata": {
        "colab": {
          "base_uri": "https://localhost:8080/"
        },
        "id": "LQvaWBz7Vuho",
        "outputId": "812dae30-ed6d-4835-d6df-73feeb697fa7"
      },
      "execution_count": 37,
      "outputs": [
        {
          "output_type": "stream",
          "name": "stdout",
          "text": [
            "988\n"
          ]
        }
      ]
    },
    {
      "cell_type": "markdown",
      "source": [
        "**Sentence Tokenization**"
      ],
      "metadata": {
        "id": "CSF9oy3rV855"
      }
    },
    {
      "cell_type": "code",
      "source": [
        "from nltk.tokenize import sent_tokenize\n",
        "tokenized_li = [sent_tokenize(sentence) for sentence in rnw]\n",
        "print(len(tokenized_li))"
      ],
      "metadata": {
        "colab": {
          "base_uri": "https://localhost:8080/"
        },
        "id": "4rwunuKCWAd0",
        "outputId": "99c44212-0384-4fc8-9965-875ed984adb9"
      },
      "execution_count": 38,
      "outputs": [
        {
          "output_type": "stream",
          "name": "stdout",
          "text": [
            "988\n"
          ]
        }
      ]
    },
    {
      "cell_type": "markdown",
      "source": [
        "**Word Tokenization**"
      ],
      "metadata": {
        "id": "Ton6LIaOWGUN"
      }
    },
    {
      "cell_type": "code",
      "source": [
        "from nltk.tokenize import word_tokenize\n",
        "tokenized_words_li = [[word_tokenize(sentence) for sentence in sentences] for sentences in tokenized_li]\n",
        "print(len(tokenized_words_li))"
      ],
      "metadata": {
        "colab": {
          "base_uri": "https://localhost:8080/"
        },
        "id": "Xc6v7BCWWJav",
        "outputId": "9ea0062a-3374-4b23-9842-073acfed6a62"
      },
      "execution_count": 39,
      "outputs": [
        {
          "output_type": "stream",
          "name": "stdout",
          "text": [
            "988\n"
          ]
        }
      ]
    },
    {
      "cell_type": "code",
      "source": [
        "from nltk.stem import PorterStemmer\n",
        "\n",
        "# Initialize the Porter Stemmer\n",
        "porter_stemmer = PorterStemmer()\n",
        "\n",
        "# Apply stemming on tokenized_words_li\n",
        "stemmed_li = [\n",
        "    [\n",
        "        porter_stemmer.stem(word) for sentence in sentences for word in word_tokenize(sentence)\n",
        "    ]\n",
        "    for sentences in tokenized_li\n",
        "]\n",
        "print(len(stemmed_li))"
      ],
      "metadata": {
        "colab": {
          "base_uri": "https://localhost:8080/"
        },
        "id": "NU11ntyIXUVB",
        "outputId": "90e044f2-2141-49ab-ed41-c4564b2e624b"
      },
      "execution_count": 40,
      "outputs": [
        {
          "output_type": "stream",
          "name": "stdout",
          "text": [
            "988\n"
          ]
        }
      ]
    },
    {
      "cell_type": "markdown",
      "source": [
        "**Stop Words**"
      ],
      "metadata": {
        "id": "4lkGETj5WWv-"
      }
    },
    {
      "cell_type": "code",
      "source": [
        "from nltk.corpus import stopwords\n",
        "nltk.download('stopwords')\n",
        "stop_words = set(stopwords.words('english'))"
      ],
      "metadata": {
        "colab": {
          "base_uri": "https://localhost:8080/"
        },
        "id": "6WJcvVU2WaGB",
        "outputId": "158a5cee-8be5-4df1-df3e-ee1e0aaaf7e1"
      },
      "execution_count": 31,
      "outputs": [
        {
          "output_type": "stream",
          "name": "stderr",
          "text": [
            "[nltk_data] Downloading package stopwords to /root/nltk_data...\n",
            "[nltk_data]   Unzipping corpora/stopwords.zip.\n"
          ]
        }
      ]
    },
    {
      "cell_type": "code",
      "source": [
        "filtered_li = [\n",
        "    [\n",
        "        word for word in words if word not in stop_words\n",
        "    ] for words in stemmed_li\n",
        "]\n",
        "\n",
        "print(len(filtered_li))\n",
        "print(filtered_li[1])"
      ],
      "metadata": {
        "colab": {
          "base_uri": "https://localhost:8080/"
        },
        "id": "qFjiLS9sXHfp",
        "outputId": "9c84e3fd-2b28-440b-f61c-f1be348b22ff"
      },
      "execution_count": 43,
      "outputs": [
        {
          "output_type": "stream",
          "name": "stdout",
          "text": [
            "988\n",
            "['stockholm', 'lorri', 'ram', 'crowd', 'kill', 'least', 'four', 'peopl', 'lorri', 'ha', 'smash', 'store', 'central', 'stockholm', 'kill', 'least', 'four', 'peopl', 'least', 'dozen', 'peopl', 'also', 'injur', 'incid', 'drottninggatan', 'queen', 'street', 'one', 'citi', 'major', 'pedestrian', 'street', 'friday', 'afternoon', 'swedish', 'prime', 'minist', 'stefan', 'lofven', 'said', 'wa', 'terror', 'attack', 'one', 'man', 'ha', 'arrest', 'polic', 'releas', 'cctv', 'imag', 'person', 'may', 'connect', 'case', 'eyewit', 'describ', 'lorri', 'tri', 'hit', 'peopl', 'speech', 'friday', 'night', 'mr', 'lofven', 'said', 'swedish', 'valu', 'democraci', 'freedom', 'would', 'undermin', 'hatr', 'also', 'announc', 'countri', 'border', 'control', 'strengthen', 'crash', 'happen', 'ahlen', 'depart', 'store', 'befor', '1500', 'local', 'time', '1300', 'gmt', 'wit', 'say', 'lorri', 'drove', 'front', 'window', 'one', 'eyewit', 'annevi', 'petersson', 'told', 'bbc', 'wa', 'shop', 'fit', 'room', 'heard', 'scream', 'wa', 'blood', 'everywher', 'said', 'swedish', 'breweri', 'spendrup', 'said', 'lorri', 'stolen', 'way', 'restaur', 'deliveri', 'earlier', 'day', 'someon', 'jump', 'driver', 'cabin', 'drove', 'vehicl', 'driver', 'wa', 'unload', 'breweri', 'spokesperson', 'told', 'tt', 'news', 'agenc', 'shop', 'sit', 'close', 'citi', 'central', 'station', 'wa', 'evacu', 'metro', 'central', 'road', 'variou', 'bu', 'line', 'also', 'shut', 'attack', 'shot', 'reportedli', 'fire', 'anoth', 'part', 'citi', 'swedish', 'polic', 'told', 'local', 'media', 'wa', 'connect', 'two', 'incid', 'citi', 'author', 'said', 'made', 'sever', 'space', 'includ', 'number', 'school', 'build', 'avail', 'temporari', 'accommod', 'could', 'get', 'home', 'becaus', 'transport', 'disrupt', 'also', 'ask', 'peopl', 'share', 'photograph', 'victim', 'onlin', 'wa', 'stockholm', 'yesterday', 'iron', 'secur', 'confer', 'dont', 'think', 'sweden', 'wa', 'prepar', 'someth', 'like', 'thi', 'last', 'big', 'terror', 'incid', 'wa', '2010', 'fail', 'suicid', 'bomber', 'blew', 'car', 'central', 'stockholm', 'countri', 'ha', 'good', 'intelligencegath', 'apparatu', 'sapo', 'swedish', 'equival', 'uk', 'mi5', 'agenc', 'got', 'finger', 'problem', 'legisl', 'deal', 'insid', 'concern', 'quit', 'time', 'sweden', 'ha', 'bit', 'lax', 'secur', 'import', 'thi', 'stage', 'though', 'keep', 'open', 'mind', 'perpetr', 'imposs', 'wa', 'someon', 'person', 'psycholog', 'problem', 'rather', 'polit', 'motiv']\n"
          ]
        }
      ]
    },
    {
      "cell_type": "code",
      "source": [
        "data = []\n",
        "dataset_len = len(df)\n",
        "for i in range(0,dataset_len):\n",
        "  li=[]\n",
        "  art_len = filtered_li[i]\n",
        "  head_len = df[\"headline\"][i]\n",
        "  li.append(len(art_len))\n",
        "  li.append(len(head_len.split()))\n",
        "  data.append(li)\n",
        "vis_dataset = pd.DataFrame(data, columns=['numwords_in_article', 'headline_length'])\n",
        "print(vis_dataset)"
      ],
      "metadata": {
        "colab": {
          "base_uri": "https://localhost:8080/"
        },
        "id": "nXQBy811ZLcd",
        "outputId": "b9811269-1cbf-408d-8df2-a38610b841be"
      },
      "execution_count": 45,
      "outputs": [
        {
          "output_type": "stream",
          "name": "stdout",
          "text": [
            "     numwords_in_article  headline_length\n",
            "0                    546                7\n",
            "1                    266                6\n",
            "2                    142                7\n",
            "3                     20                6\n",
            "4                    373                6\n",
            "..                   ...              ...\n",
            "983                  253                5\n",
            "984                  393                6\n",
            "985                  150                7\n",
            "986                  143                4\n",
            "987                   48                5\n",
            "\n",
            "[988 rows x 2 columns]\n"
          ]
        }
      ]
    },
    {
      "cell_type": "code",
      "source": [
        "#print(articles[80])\n",
        "words = articles[0].split()\n",
        "print(len(words))"
      ],
      "metadata": {
        "colab": {
          "base_uri": "https://localhost:8080/"
        },
        "id": "M5VMMp6s4Nrp",
        "outputId": "de67a2e4-9af2-4f74-df98-56d343702670"
      },
      "execution_count": 9,
      "outputs": [
        {
          "output_type": "stream",
          "name": "stdout",
          "text": [
            "880\n"
          ]
        }
      ]
    },
    {
      "cell_type": "code",
      "source": [
        "less_than_250=[]\n",
        "words_251_to_500=[]\n",
        "words_501_to_800=[]\n",
        "more_than_800=[]"
      ],
      "metadata": {
        "id": "-o_LbZ5s464P"
      },
      "execution_count": 10,
      "outputs": []
    },
    {
      "cell_type": "code",
      "source": [
        "def classify_article(word_count,article_text):\n",
        "    if word_count < 250:\n",
        "      less_than_250.append(article_text)\n",
        "    elif 251<=word_count<=500:\n",
        "      words_251_to_500.append(article_text)\n",
        "    elif 501<=word_count<=800:\n",
        "      words_501_to_800.append(article_text)\n",
        "    elif word_count>=801:\n",
        "      more_than_800.append(article_text)\n",
        "\n",
        "def count_words(text):\n",
        "    words = text.split()\n",
        "    return len(words)\n",
        "\n",
        "for article_text in articles:\n",
        "    word_count = count_words(article_text)\n",
        "    classification = classify_article(word_count,article_text)\n"
      ],
      "metadata": {
        "id": "GhwiyKSu3U0E"
      },
      "execution_count": 20,
      "outputs": []
    },
    {
      "cell_type": "code",
      "source": [
        "print(len(less_than_250))"
      ],
      "metadata": {
        "colab": {
          "base_uri": "https://localhost:8080/"
        },
        "id": "D-iROqdA6J_g",
        "outputId": "1c264574-7093-4471-f7c9-6bd9bc4d42a5"
      },
      "execution_count": 12,
      "outputs": [
        {
          "output_type": "stream",
          "name": "stdout",
          "text": [
            "224\n"
          ]
        }
      ]
    },
    {
      "cell_type": "code",
      "source": [
        "print(len(words_251_to_500))"
      ],
      "metadata": {
        "colab": {
          "base_uri": "https://localhost:8080/"
        },
        "id": "a_9d0WGS6L2H",
        "outputId": "4531eaef-c38f-4577-e7cc-22150342a36e"
      },
      "execution_count": 13,
      "outputs": [
        {
          "output_type": "stream",
          "name": "stdout",
          "text": [
            "420\n"
          ]
        }
      ]
    },
    {
      "cell_type": "code",
      "source": [
        "print(len(words_501_to_800))"
      ],
      "metadata": {
        "colab": {
          "base_uri": "https://localhost:8080/"
        },
        "id": "qR34xYqq6Tdg",
        "outputId": "f3d713db-733e-4fae-8129-426e2c7daca2"
      },
      "execution_count": 14,
      "outputs": [
        {
          "output_type": "stream",
          "name": "stdout",
          "text": [
            "251\n"
          ]
        }
      ]
    },
    {
      "cell_type": "code",
      "source": [
        "print(len(more_than_800))"
      ],
      "metadata": {
        "colab": {
          "base_uri": "https://localhost:8080/"
        },
        "id": "ayJJG2Ay6XH_",
        "outputId": "c3a950a8-85c6-47e7-cbd7-5a3bb2ff597a"
      },
      "execution_count": 15,
      "outputs": [
        {
          "output_type": "stream",
          "name": "stdout",
          "text": [
            "93\n"
          ]
        }
      ]
    },
    {
      "cell_type": "markdown",
      "source": [
        "Dataframe creation"
      ],
      "metadata": {
        "id": "WKtpJl6GEsJO"
      }
    },
    {
      "cell_type": "code",
      "source": [
        "data = []\n",
        "dataset_len = len(df)\n",
        "for i in range(0,dataset_len):\n",
        "  li=[]\n",
        "  art_len = df[\"article\"][i]\n",
        "  head_len = df[\"headline\"][i]\n",
        "  li.append(len(art_len.split()))\n",
        "  li.append(len(head_len.split()))\n",
        "  data.append(li)\n",
        "vis_dataset = pd.DataFrame(data, columns=['numwords_in_article', 'headline_length'])\n",
        "print(vis_dataset)"
      ],
      "metadata": {
        "colab": {
          "base_uri": "https://localhost:8080/"
        },
        "id": "4rjrPhaL7SdW",
        "outputId": "65f38f01-f8a2-4c64-c592-0edb841f3d6e"
      },
      "execution_count": 16,
      "outputs": [
        {
          "output_type": "stream",
          "name": "stdout",
          "text": [
            "     numwords_in_article  headline_length\n",
            "0                    880                7\n",
            "1                    430                6\n",
            "2                    226                7\n",
            "3                     29                6\n",
            "4                    604                6\n",
            "..                   ...              ...\n",
            "983                  418                5\n",
            "984                  634                6\n",
            "985                  243                7\n",
            "986                  227                4\n",
            "987                   79                5\n",
            "\n",
            "[988 rows x 2 columns]\n"
          ]
        }
      ]
    },
    {
      "cell_type": "code",
      "source": [
        "x_axis = []\n",
        "y_axis = []\n",
        "dataset_len = len(df)\n",
        "for i in range(0,dataset_len):\n",
        "  x_axis.append(vis_dataset['numwords_in_article'][i])\n",
        "  y_axis.append(vis_dataset['headline_length'][i])\n",
        "\n",
        "#print(len(x_axis))"
      ],
      "metadata": {
        "id": "dWSpZEnUbfK6"
      },
      "execution_count": 46,
      "outputs": []
    },
    {
      "cell_type": "code",
      "source": [
        "plt.figure(figsize=(10, 6))\n",
        "plt.bar(x_axis, y_axis, color='red')\n",
        "plt.title('Mean Paragraph Size vs. Headline Length after stop words removal')\n",
        "plt.xlabel('Paragraph Size without stopwords (Number of Words)')\n",
        "plt.ylabel('Headline Length')\n",
        "plt.grid(axis='y')\n",
        "plt.xlim(0, 1200)\n",
        "plt.show()"
      ],
      "metadata": {
        "colab": {
          "base_uri": "https://localhost:8080/",
          "height": 564
        },
        "id": "JJr0x6ZYbOZG",
        "outputId": "e00c56de-0f4a-4945-dce9-fb03ad60909e"
      },
      "execution_count": 49,
      "outputs": [
        {
          "output_type": "display_data",
          "data": {
            "text/plain": [
              "<Figure size 1000x600 with 1 Axes>"
            ],
            "image/png": "[encoded data removed]"
          },
          "metadata": {}
        }
      ]
    },
    {
      "cell_type": "markdown",
      "source": [
        "⬛⬛⬛⬛⬛⬛⬛⬛⬛⬛⬛⬛⬛⬛⬛⬛⬛⬛⬛⬛⬛⬛⬛⬛⬛⬛⬛⬛⬛⬛⬛⬛⬛⬛⬛⬛⬛⬛⬛⬛⬛⬛⬛⬛⬛⬛⬛⬛⬛⬛⬛⬛⬛⬛⬛⬛⬛⬛⬛⬛⬛⬛⬛⬛⬛⬛⬛⬛⬛⬛"
      ],
      "metadata": {
        "id": "IJvqwZpQbr82"
      }
    },
    {
      "cell_type": "markdown",
      "source": [
        "Creating x_axis and y_axis  from dataframe"
      ],
      "metadata": {
        "id": "DfZyAs1oEvIm"
      }
    },
    {
      "cell_type": "code",
      "source": [
        "x_axis = []\n",
        "y_axis = []\n",
        "dataset_len = len(df)\n",
        "for i in range(0,dataset_len):\n",
        "  x_axis.append(vis_dataset['numwords_in_article'][i])\n",
        "  y_axis.append(vis_dataset['headline_length'][i])\n",
        "\n",
        "#print(len(x_axis))"
      ],
      "metadata": {
        "id": "1YS8CCIQALci"
      },
      "execution_count": 17,
      "outputs": []
    },
    {
      "cell_type": "markdown",
      "source": [
        "***Visualising the data***"
      ],
      "metadata": {
        "id": "IhVn_UWhE3pe"
      }
    },
    {
      "cell_type": "markdown",
      "source": [
        "Line plot"
      ],
      "metadata": {
        "id": "66jqYv6MCk49"
      }
    },
    {
      "cell_type": "code",
      "source": [
        "\n",
        "plt.plot(x_axis, y_axis, color='blue', alpha=0.5)\n",
        "plt.title('Scatter Plot of Paragraph Size vs. Headline Length')\n",
        "plt.xlabel('Paragraph Size (Number of Words)')\n",
        "plt.ylabel('Headline Length')\n",
        "#plt.grid(True)\n",
        "plt.xlim(0, 1000)\n",
        "plt.show()"
      ],
      "metadata": {
        "colab": {
          "base_uri": "https://localhost:8080/",
          "height": 472
        },
        "id": "0eHBsYtaBcC3",
        "outputId": "bb67d487-9747-4edc-eda0-3d905c4953af"
      },
      "execution_count": null,
      "outputs": [
        {
          "output_type": "display_data",
          "data": {
            "text/plain": [
              "<Figure size 640x480 with 1 Axes>"
            ],
            "image/png": "[encoded data removed]"
          },
          "metadata": {}
        }
      ]
    },
    {
      "cell_type": "markdown",
      "source": [
        "scatter plot"
      ],
      "metadata": {
        "id": "ERbCYIRBCmVt"
      }
    },
    {
      "cell_type": "code",
      "source": [
        "\n",
        "plt.scatter(x_axis, y_axis, color='blue', alpha=0.5)\n",
        "plt.title('Scatter Plot of Paragraph Size vs. Headline Length')\n",
        "plt.xlabel('Paragraph Size (Number of Words)')\n",
        "plt.ylabel('Headline Length')\n",
        "#plt.grid(True)\n",
        "plt.xlim(0, 1200)\n",
        "plt.yticks([2, 4, 6, 8, 10,12])\n",
        "plt.show()"
      ],
      "metadata": {
        "colab": {
          "base_uri": "https://localhost:8080/",
          "height": 472
        },
        "id": "UmGKCx9ACqEI",
        "outputId": "69f4a107-a250-47df-905d-49dfec8fad4a"
      },
      "execution_count": null,
      "outputs": [
        {
          "output_type": "display_data",
          "data": {
            "text/plain": [
              "<Figure size 640x480 with 1 Axes>"
            ],
            "image/png": "[encoded data removed]"
          },
          "metadata": {}
        }
      ]
    },
    {
      "cell_type": "markdown",
      "source": [
        "Histogram"
      ],
      "metadata": {
        "id": "_sE0cTSGDHpC"
      }
    },
    {
      "cell_type": "code",
      "source": [
        "plt.figure(figsize=(10, 6))\n",
        "plt.bar(x_axis, y_axis, color='skyblue')\n",
        "plt.title('Mean Paragraph Size vs. Headline Length')\n",
        "plt.xlabel('Paragraph Size (Number of Words)')\n",
        "plt.ylabel('Headline Length')\n",
        "plt.grid(axis='y')\n",
        "plt.xlim(0, 1200)\n",
        "plt.show()"
      ],
      "metadata": {
        "colab": {
          "base_uri": "https://localhost:8080/",
          "height": 564
        },
        "id": "2bASHTvKDGqH",
        "outputId": "a8397903-09c6-4929-f4b5-eb0255e4a77a"
      },
      "execution_count": null,
      "outputs": [
        {
          "output_type": "display_data",
          "data": {
            "text/plain": [
              "<Figure size 1000x600 with 1 Axes>"
            ],
            "image/png": "[encoded data removed]"
          },
          "metadata": {}
        }
      ]
    },
    {
      "cell_type": "code",
      "source": [
        "pip install plotly"
      ],
      "metadata": {
        "colab": {
          "base_uri": "https://localhost:8080/"
        },
        "id": "gREKeC08-vof",
        "outputId": "6ee8b592-d453-497d-ec89-ee8cb965ec43"
      },
      "execution_count": null,
      "outputs": [
        {
          "output_type": "stream",
          "name": "stdout",
          "text": [
            "Requirement already satisfied: plotly in /usr/local/lib/python3.10/dist-packages (5.15.0)\n",
            "Requirement already satisfied: tenacity>=6.2.0 in /usr/local/lib/python3.10/dist-packages (from plotly) (8.2.3)\n",
            "Requirement already satisfied: packaging in /usr/local/lib/python3.10/dist-packages (from plotly) (23.2)\n"
          ]
        }
      ]
    },
    {
      "cell_type": "code",
      "source": [
        "pd.options.plotting.backend = \"plotly\"\n",
        "import plotly.express as px"
      ],
      "metadata": {
        "id": "4wcIq6iQ-ww7"
      },
      "execution_count": null,
      "outputs": []
    },
    {
      "cell_type": "code",
      "source": [
        "plotly_plot = pd.DataFrame(x_axis,y_axis)\n",
        "fig = plotly_plot.plot()\n",
        "fig.show()"
      ],
      "metadata": {
        "colab": {
          "base_uri": "https://localhost:8080/",
          "height": 542
        },
        "id": "p04Fked8BH9h",
        "outputId": "d3d8ab71-099e-4ee2-8a38-78fa55d8633e"
      },
      "execution_count": null,
      "outputs": [
        {
          "output_type": "display_data",
          "data": {
            "text/html": [
              "<html>\n",
              "<head><meta charset=\"utf-8\" /></head>\n",
              "<body>\n",
              "    <div>            <script src=\"https://cdnjs.cloudflare.com/ajax/libs/mathjax/2.7.5/MathJax.js?config=TeX-AMS-MML_SVG\"></script><script type=\"text/javascript\">if (window.MathJax && window.MathJax.Hub && window.MathJax.Hub.Config) {window.MathJax.Hub.Config({SVG: {font: \"STIX-Web\"}});}</script>                <script type=\"text/javascript\">window.PlotlyConfig = {MathJaxConfig: 'local'};</script>\n",
              "        <script charset=\"utf-8\" src=\"https://cdn.plot.ly/plotly-2.24.1.min.js\"></script>                <div id=\"2718ac53-e81b-4f43-9eaa-77f750bc9de2\" class=\"plotly-graph-div\" style=\"height:525px; width:100%;\"></div>            <script type=\"text/javascript\">                                    window.PLOTLYENV=window.PLOTLYENV || {};                                    if (document.getElementById(\"2718ac53-e81b-4f43-9eaa-77f750bc9de2\")) {                    Plotly.newPlot(                        \"2718ac53-e81b-4f43-9eaa-77f750bc9de2\",                        [{\"hovertemplate\":\"variable=0\\u003cbr\\u003eindex=%{x}\\u003cbr\\u003evalue=%{y}\\u003cextra\\u003e\\u003c\\u002fextra\\u003e\",\"legendgroup\":\"0\",\"line\":{\"color\":\"#636efa\",\"dash\":\"solid\"},\"marker\":{\"symbol\":\"circle\"},\"mode\":\"lines\",\"name\":\"0\",\"orientation\":\"v\",\"showlegend\":true,\"x\":[7,6,7,6,6,6,7,6,7,6,5,6,5,6,4,5,5,5,6,6,4,6,6,6,6,6,6,7,6,7,7,6,5,6,5,7,6,7,6,6,5,7,5,8,5,8,6,7,5,8,6,6,6,8,5,6,7,5,4,9,4,9,6,5,6,6,6,7,5,7,7,7,7,7,6,6,6,6,5,6,6,6,7,7,6,5,5,6,7,7,7,6,7,6,6,7,7,8,5,6,6,6,5,7,7,6,6,6,6,6,5,6,8,7,6,7,6,7,8,6,6,6,7,6,7,6,5,7,8,7,7,6,6,6,6,6,8,6,6,6,6,6,6,6,4,6,6,6,7,6,7,7,5,6,5,6,6,8,6,6,5,6,8,6,7,6,5,6,6,6,6,5,7,6,9,7,7,5,7,9,6,6,6,7,6,7,6,6,5,6,5,6,5,5,5,5,7,6,5,7,4,7,4,7,6,5,6,8,5,9,6,7,9,5,6,6,6,6,6,6,6,5,5,6,7,6,8,5,7,7,6,6,6,6,6,8,7,6,5,6,6,6,6,5,7,5,6,5,6,5,6,6,8,7,7,5,5,7,5,4,5,6,6,7,5,7,5,5,7,8,7,8,7,9,7,6,6,7,6,8,5,8,5,5,5,6,7,6,7,7,5,7,7,6,7,8,5,8,5,5,7,6,7,6,6,7,6,5,7,6,6,7,7,7,7,6,7,7,7,5,6,4,7,5,7,6,7,7,7,7,6,7,7,5,6,7,6,5,7,6,5,6,6,6,6,6,7,6,6,8,6,6,5,5,8,6,4,5,6,7,6,7,5,6,5,6,4,5,6,6,5,6,7,6,6,6,6,6,7,7,8,6,6,7,5,7,5,7,8,6,6,6,6,6,6,6,5,7,7,8,6,6,5,5,4,8,7,7,7,7,8,7,7,8,7,6,5,7,6,7,8,5,6,6,6,6,8,7,7,6,5,6,6,6,6,7,7,5,7,7,7,7,7,7,7,5,4,5,7,6,7,6,6,9,6,7,6,7,6,7,8,8,6,7,6,5,8,7,5,5,5,7,5,7,6,7,6,4,8,6,6,6,8,6,6,9,5,7,8,7,8,5,5,6,6,8,7,7,5,4,5,8,5,7,5,7,7,6,4,6,5,8,6,5,5,7,6,8,6,6,6,6,5,6,8,6,5,6,7,5,9,6,4,6,6,6,6,6,5,8,6,6,7,6,6,5,6,6,7,7,5,6,5,6,5,7,7,4,7,4,5,6,5,6,8,6,7,7,7,7,5,7,4,5,4,7,6,7,4,6,6,6,6,6,6,7,6,7,5,7,4,7,6,4,7,5,7,6,7,6,7,5,5,6,7,6,6,7,6,6,6,5,6,5,5,5,5,6,5,6,6,6,7,6,6,6,6,5,6,6,6,6,6,5,5,5,5,6,8,7,6,5,7,5,5,7,4,7,4,6,5,6,6,6,5,5,5,6,5,8,7,7,7,7,7,5,6,8,6,6,6,6,6,7,5,6,5,7,6,7,6,5,7,6,7,7,5,8,7,5,6,5,6,10,7,10,7,5,6,6,6,6,6,5,7,6,7,6,7,8,6,8,6,7,7,5,6,4,7,6,5,7,6,7,8,5,7,5,7,7,5,6,7,6,5,6,7,5,5,6,5,6,8,6,8,6,6,7,6,5,5,7,7,6,8,5,7,6,6,6,6,6,7,5,8,6,7,5,5,7,5,5,7,6,6,6,6,6,7,7,6,7,6,8,5,5,7,6,6,5,4,5,4,6,7,7,7,7,5,7,6,7,7,6,7,6,7,6,7,6,7,6,5,8,6,6,6,4,7,5,6,5,6,5,6,6,5,7,6,6,6,7,8,6,6,6,5,7,7,7,7,5,6,6,6,7,7,6,5,7,8,5,4,7,6,7,6,7,6,7,7,7,6,7,8,6,7,5,5,5,6,5,6,7,5,5,5,6,6,6,6,5,4,7,7,8,8,6,8,6,6,7,7,8,7,7,5,7,6,8,5,5,5,5,6,7,6,5,5,7,5,6,8,5,6,6,6,6,7,6,7,5,5,6,7,4,5,7,8,4,6,6,7,5,4,5,4,6,7,8,5,7,6,6,6,7,8,5,7,8,3,8,3,6,6,6,8,7,6,6,6,6,5,5,6,7,6,7,6,7,5,5,7,6,9,5,9,5,6,6,5,5,6,5,6,7,4,5],\"xaxis\":\"x\",\"y\":[880,430,226,29,604,359,517,416,322,427,398,326,398,326,200,451,445,341,654,658,65,297,165,270,171,520,81,410,81,410,489,892,221,603,610,379,317,42,1359,246,502,219,417,330,417,330,64,308,233,675,426,570,293,236,267,167,53,260,198,384,198,384,172,247,277,478,515,528,251,48,199,421,358,304,588,654,588,654,512,393,472,312,709,659,315,429,128,513,423,202,758,359,758,359,237,49,507,674,352,600,646,920,34,356,204,693,207,674,207,674,319,288,278,527,401,624,74,399,487,468,455,249,452,405,452,405,48,387,824,97,652,722,505,474,232,411,370,499,91,499,91,91,189,910,874,564,340,920,522,368,506,543,455,48,455,48,1149,478,812,564,434,36,423,282,920,36,286,340,700,340,700,48,529,246,1209,34,644,749,571,62,313,683,604,727,143,727,143,378,582,521,868,784,474,562,44,770,539,415,301,305,335,305,335,373,703,160,694,24,974,62,498,526,571,611,25,429,442,429,442,235,446,531,932,808,332,616,367,623,576,510,676,422,28,422,28,515,418,418,356,572,418,440,363,1545,368,77,527,272,754,272,754,546,485,272,624,445,49,284,54,1511,262,484,185,432,393,432,393,273,188,695,638,522,293,65,768,311,24,822,186,36,636,36,636,328,429,355,571,395,783,444,415,514,121,658,793,1122,281,1122,281,323,108,236,603,414,4375,851,739,337,409,36,696,229,197,229,197,360,583,660,624,393,564,339,602,748,291,61,269,229,269,229,258,465,286,596,378,441,25,41,300,570,1153,929,711,598,711,598,389,515,268,769,1127,297,426,41,313,61,273,349,379,596,379,596,293,144,343,555,333,739,56,195,182,763,362,154,354,65,354,65,279,356,730,425,161,79,497,205,780,422,326,419,139,574,139,574,418,283,775,400,617,645,405,744,46,736,34,580,567,545,567,545,484,535,313,726,891,788,657,334,260,300,383,29,433,415,433,415,699,407,253,705,729,1158,456,743,496,430,441,780,623,886,623,886,391,22,192,1190,361,439,436,261,1462,580,463,865,166,334,166,334,290,732,40,577,1158,179,551,543,88,341,457,392,181,431,181,431,1425,214,359,1081,323,457,286,617,228,1237,501,33,332,33,594,33,594,577,543,786,603,1006,476,639,275,548,381,98,237,22,237,22,314,297,994,983,26,447,482,21,390,240,580,272,449,514,449,514,442,479,298,798,28,770,329,272,44,335,528,426,196,538,196,538,851,314,216,890,693,387,1004,340,338,477,307,389,26,705,26,705,492,300,332,802,762,451,248,420,1130,472,305,556,40,487,40,487,199,297,874,500,599,716,170,30,659,244,233,374,352,374,352,291,39,414,459,275,745,768,416,587,429,465,36,308,335,308,335,194,359,943,442,272,365,282,62,605,827,281,350,437,386,437,386,524,356,527,759,1990,416,490,346,312,612,50,228,285,53,285,53,311,459,328,924,45,982,567,382,14,521,1835,254,414,634,414,634,465,444,269,590,48,652,558,114,37,308,510,408,413,481,413,481,1110,200,337,639,1044,424,38,25,388,300,397,595,113,614,113,614,327,945,569,536,790,55,328,345,242,347,712,785,219,259,219,259,445,32,18,732,523,281,442,21,401,853,215,80,357,265,357,265,1055,228,185,683,685,601,512,43,292,157,438,936,48,388,48,388,187,663,281,1002,642,590,244,723,324,49,424,604,225,29,970,29,970,320,527,492,1252,685,772,989,457,46,291,414,289,189,146,189,146,595,472,374,1543,456,40,429,257,220,276,984,799,644,621,644,621,424,53,514,793,355,71,325,23,308,580,435,390,325,390,325,269,372,407,663,717,550,300,499,112,788,71,163,378,189,378,189,358,268,2015,871,475,717,475,240,71,833,323,407,175,248,175,248,190,560,423,697,340,326,976,45,634,497,570,30,570,403,570,403,329,411,489,385,597,415,689,20,392,665,813,251,304,263,304,263,330,696,534,650,38,328,524,247,455,602,640,312,275,268,275,268,973,267,388,972,465,1019,282,164,320,50,89,68,345,351,654,351,654,185,872,24,702,790,42,367,221,165,374,312,291,312,291,985,301,503,855,1136,363,54,505,880,365,44,461,945,316,550,316,550,330,421,422,1469,855,500,674,30,349,835,306,743,259,813,259,813,306,189,1207,733,741,342,372,497,1271,833,349,983,338,33,338,33,672,255,337,713,990,765,99,442,667,396,610,436,280,941,280,941,94,41,408,1106,504,2213,348,334,19,645,20,438,418,634,418,634,243,227,79],\"yaxis\":\"y\",\"type\":\"scatter\"}],                        {\"template\":{\"data\":{\"histogram2dcontour\":[{\"type\":\"histogram2dcontour\",\"colorbar\":{\"outlinewidth\":0,\"ticks\":\"\"},\"colorscale\":[[0.0,\"#0d0887\"],[0.1111111111111111,\"#46039f\"],[0.2222222222222222,\"#7201a8\"],[0.3333333333333333,\"#9c179e\"],[0.4444444444444444,\"#bd3786\"],[0.5555555555555556,\"#d8576b\"],[0.6666666666666666,\"#ed7953\"],[0.7777777777777778,\"#fb9f3a\"],[0.8888888888888888,\"#fdca26\"],[1.0,\"#f0f921\"]]}],\"choropleth\":[{\"type\":\"choropleth\",\"colorbar\":{\"outlinewidth\":0,\"ticks\":\"\"}}],\"histogram2d\":[{\"type\":\"histogram2d\",\"colorbar\":{\"outlinewidth\":0,\"ticks\":\"\"},\"colorscale\":[[0.0,\"#0d0887\"],[0.1111111111111111,\"#46039f\"],[0.2222222222222222,\"#7201a8\"],[0.3333333333333333,\"#9c179e\"],[0.4444444444444444,\"#bd3786\"],[0.5555555555555556,\"#d8576b\"],[0.6666666666666666,\"#ed7953\"],[0.7777777777777778,\"#fb9f3a\"],[0.8888888888888888,\"#fdca26\"],[1.0,\"#f0f921\"]]}],\"heatmap\":[{\"type\":\"heatmap\",\"colorbar\":{\"outlinewidth\":0,\"ticks\":\"\"},\"colorscale\":[[0.0,\"#0d0887\"],[0.1111111111111111,\"#46039f\"],[0.2222222222222222,\"#7201a8\"],[0.3333333333333333,\"#9c179e\"],[0.4444444444444444,\"#bd3786\"],[0.5555555555555556,\"#d8576b\"],[0.6666666666666666,\"#ed7953\"],[0.7777777777777778,\"#fb9f3a\"],[0.8888888888888888,\"#fdca26\"],[1.0,\"#f0f921\"]]}],\"heatmapgl\":[{\"type\":\"heatmapgl\",\"colorbar\":{\"outlinewidth\":0,\"ticks\":\"\"},\"colorscale\":[[0.0,\"#0d0887\"],[0.1111111111111111,\"#46039f\"],[0.2222222222222222,\"#7201a8\"],[0.3333333333333333,\"#9c179e\"],[0.4444444444444444,\"#bd3786\"],[0.5555555555555556,\"#d8576b\"],[0.6666666666666666,\"#ed7953\"],[0.7777777777777778,\"#fb9f3a\"],[0.8888888888888888,\"#fdca26\"],[1.0,\"#f0f921\"]]}],\"contourcarpet\":[{\"type\":\"contourcarpet\",\"colorbar\":{\"outlinewidth\":0,\"ticks\":\"\"}}],\"contour\":[{\"type\":\"contour\",\"colorbar\":{\"outlinewidth\":0,\"ticks\":\"\"},\"colorscale\":[[0.0,\"#0d0887\"],[0.1111111111111111,\"#46039f\"],[0.2222222222222222,\"#7201a8\"],[0.3333333333333333,\"#9c179e\"],[0.4444444444444444,\"#bd3786\"],[0.5555555555555556,\"#d8576b\"],[0.6666666666666666,\"#ed7953\"],[0.7777777777777778,\"#fb9f3a\"],[0.8888888888888888,\"#fdca26\"],[1.0,\"#f0f921\"]]}],\"surface\":[{\"type\":\"surface\",\"colorbar\":{\"outlinewidth\":0,\"ticks\":\"\"},\"colorscale\":[[0.0,\"#0d0887\"],[0.1111111111111111,\"#46039f\"],[0.2222222222222222,\"#7201a8\"],[0.3333333333333333,\"#9c179e\"],[0.4444444444444444,\"#bd3786\"],[0.5555555555555556,\"#d8576b\"],[0.6666666666666666,\"#ed7953\"],[0.7777777777777778,\"#fb9f3a\"],[0.8888888888888888,\"#fdca26\"],[1.0,\"#f0f921\"]]}],\"mesh3d\":[{\"type\":\"mesh3d\",\"colorbar\":{\"outlinewidth\":0,\"ticks\":\"\"}}],\"scatter\":[{\"fillpattern\":{\"fillmode\":\"overlay\",\"size\":10,\"solidity\":0.2},\"type\":\"scatter\"}],\"parcoords\":[{\"type\":\"parcoords\",\"line\":{\"colorbar\":{\"outlinewidth\":0,\"ticks\":\"\"}}}],\"scatterpolargl\":[{\"type\":\"scatterpolargl\",\"marker\":{\"colorbar\":{\"outlinewidth\":0,\"ticks\":\"\"}}}],\"bar\":[{\"error_x\":{\"color\":\"#2a3f5f\"},\"error_y\":{\"color\":\"#2a3f5f\"},\"marker\":{\"line\":{\"color\":\"#E5ECF6\",\"width\":0.5},\"pattern\":{\"fillmode\":\"overlay\",\"size\":10,\"solidity\":0.2}},\"type\":\"bar\"}],\"scattergeo\":[{\"type\":\"scattergeo\",\"marker\":{\"colorbar\":{\"outlinewidth\":0,\"ticks\":\"\"}}}],\"scatterpolar\":[{\"type\":\"scatterpolar\",\"marker\":{\"colorbar\":{\"outlinewidth\":0,\"ticks\":\"\"}}}],\"histogram\":[{\"marker\":{\"pattern\":{\"fillmode\":\"overlay\",\"size\":10,\"solidity\":0.2}},\"type\":\"histogram\"}],\"scattergl\":[{\"type\":\"scattergl\",\"marker\":{\"colorbar\":{\"outlinewidth\":0,\"ticks\":\"\"}}}],\"scatter3d\":[{\"type\":\"scatter3d\",\"line\":{\"colorbar\":{\"outlinewidth\":0,\"ticks\":\"\"}},\"marker\":{\"colorbar\":{\"outlinewidth\":0,\"ticks\":\"\"}}}],\"scattermapbox\":[{\"type\":\"scattermapbox\",\"marker\":{\"colorbar\":{\"outlinewidth\":0,\"ticks\":\"\"}}}],\"scatterternary\":[{\"type\":\"scatterternary\",\"marker\":{\"colorbar\":{\"outlinewidth\":0,\"ticks\":\"\"}}}],\"scattercarpet\":[{\"type\":\"scattercarpet\",\"marker\":{\"colorbar\":{\"outlinewidth\":0,\"ticks\":\"\"}}}],\"carpet\":[{\"aaxis\":{\"endlinecolor\":\"#2a3f5f\",\"gridcolor\":\"white\",\"linecolor\":\"white\",\"minorgridcolor\":\"white\",\"startlinecolor\":\"#2a3f5f\"},\"baxis\":{\"endlinecolor\":\"#2a3f5f\",\"gridcolor\":\"white\",\"linecolor\":\"white\",\"minorgridcolor\":\"white\",\"startlinecolor\":\"#2a3f5f\"},\"type\":\"carpet\"}],\"table\":[{\"cells\":{\"fill\":{\"color\":\"#EBF0F8\"},\"line\":{\"color\":\"white\"}},\"header\":{\"fill\":{\"color\":\"#C8D4E3\"},\"line\":{\"color\":\"white\"}},\"type\":\"table\"}],\"barpolar\":[{\"marker\":{\"line\":{\"color\":\"#E5ECF6\",\"width\":0.5},\"pattern\":{\"fillmode\":\"overlay\",\"size\":10,\"solidity\":0.2}},\"type\":\"barpolar\"}],\"pie\":[{\"automargin\":true,\"type\":\"pie\"}]},\"layout\":{\"autotypenumbers\":\"strict\",\"colorway\":[\"#636efa\",\"#EF553B\",\"#00cc96\",\"#ab63fa\",\"#FFA15A\",\"#19d3f3\",\"#FF6692\",\"#B6E880\",\"#FF97FF\",\"#FECB52\"],\"font\":{\"color\":\"#2a3f5f\"},\"hovermode\":\"closest\",\"hoverlabel\":{\"align\":\"left\"},\"paper_bgcolor\":\"white\",\"plot_bgcolor\":\"#E5ECF6\",\"polar\":{\"bgcolor\":\"#E5ECF6\",\"angularaxis\":{\"gridcolor\":\"white\",\"linecolor\":\"white\",\"ticks\":\"\"},\"radialaxis\":{\"gridcolor\":\"white\",\"linecolor\":\"white\",\"ticks\":\"\"}},\"ternary\":{\"bgcolor\":\"#E5ECF6\",\"aaxis\":{\"gridcolor\":\"white\",\"linecolor\":\"white\",\"ticks\":\"\"},\"baxis\":{\"gridcolor\":\"white\",\"linecolor\":\"white\",\"ticks\":\"\"},\"caxis\":{\"gridcolor\":\"white\",\"linecolor\":\"white\",\"ticks\":\"\"}},\"coloraxis\":{\"colorbar\":{\"outlinewidth\":0,\"ticks\":\"\"}},\"colorscale\":{\"sequential\":[[0.0,\"#0d0887\"],[0.1111111111111111,\"#46039f\"],[0.2222222222222222,\"#7201a8\"],[0.3333333333333333,\"#9c179e\"],[0.4444444444444444,\"#bd3786\"],[0.5555555555555556,\"#d8576b\"],[0.6666666666666666,\"#ed7953\"],[0.7777777777777778,\"#fb9f3a\"],[0.8888888888888888,\"#fdca26\"],[1.0,\"#f0f921\"]],\"sequentialminus\":[[0.0,\"#0d0887\"],[0.1111111111111111,\"#46039f\"],[0.2222222222222222,\"#7201a8\"],[0.3333333333333333,\"#9c179e\"],[0.4444444444444444,\"#bd3786\"],[0.5555555555555556,\"#d8576b\"],[0.6666666666666666,\"#ed7953\"],[0.7777777777777778,\"#fb9f3a\"],[0.8888888888888888,\"#fdca26\"],[1.0,\"#f0f921\"]],\"diverging\":[[0,\"#8e0152\"],[0.1,\"#c51b7d\"],[0.2,\"#de77ae\"],[0.3,\"#f1b6da\"],[0.4,\"#fde0ef\"],[0.5,\"#f7f7f7\"],[0.6,\"#e6f5d0\"],[0.7,\"#b8e186\"],[0.8,\"#7fbc41\"],[0.9,\"#4d9221\"],[1,\"#276419\"]]},\"xaxis\":{\"gridcolor\":\"white\",\"linecolor\":\"white\",\"ticks\":\"\",\"title\":{\"standoff\":15},\"zerolinecolor\":\"white\",\"automargin\":true,\"zerolinewidth\":2},\"yaxis\":{\"gridcolor\":\"white\",\"linecolor\":\"white\",\"ticks\":\"\",\"title\":{\"standoff\":15},\"zerolinecolor\":\"white\",\"automargin\":true,\"zerolinewidth\":2},\"scene\":{\"xaxis\":{\"backgroundcolor\":\"#E5ECF6\",\"gridcolor\":\"white\",\"linecolor\":\"white\",\"showbackground\":true,\"ticks\":\"\",\"zerolinecolor\":\"white\",\"gridwidth\":2},\"yaxis\":{\"backgroundcolor\":\"#E5ECF6\",\"gridcolor\":\"white\",\"linecolor\":\"white\",\"showbackground\":true,\"ticks\":\"\",\"zerolinecolor\":\"white\",\"gridwidth\":2},\"zaxis\":{\"backgroundcolor\":\"#E5ECF6\",\"gridcolor\":\"white\",\"linecolor\":\"white\",\"showbackground\":true,\"ticks\":\"\",\"zerolinecolor\":\"white\",\"gridwidth\":2}},\"shapedefaults\":{\"line\":{\"color\":\"#2a3f5f\"}},\"annotationdefaults\":{\"arrowcolor\":\"#2a3f5f\",\"arrowhead\":0,\"arrowwidth\":1},\"geo\":{\"bgcolor\":\"white\",\"landcolor\":\"#E5ECF6\",\"subunitcolor\":\"white\",\"showland\":true,\"showlakes\":true,\"lakecolor\":\"white\"},\"title\":{\"x\":0.05},\"mapbox\":{\"style\":\"light\"}}},\"xaxis\":{\"anchor\":\"y\",\"domain\":[0.0,1.0],\"title\":{\"text\":\"index\"}},\"yaxis\":{\"anchor\":\"x\",\"domain\":[0.0,1.0],\"title\":{\"text\":\"value\"}},\"legend\":{\"title\":{\"text\":\"variable\"},\"tracegroupgap\":0},\"margin\":{\"t\":60}},                        {\"responsive\": true}                    ).then(function(){\n",
              "                            \n",
              "var gd = document.getElementById('2718ac53-e81b-4f43-9eaa-77f750bc9de2');\n",
              "var x = new MutationObserver(function (mutations, observer) {{\n",
              "        var display = window.getComputedStyle(gd).display;\n",
              "        if (!display || display === 'none') {{\n",
              "            console.log([gd, 'removed!']);\n",
              "            Plotly.purge(gd);\n",
              "            observer.disconnect();\n",
              "        }}\n",
              "}});\n",
              "\n",
              "// Listen for the removal of the full notebook cells\n",
              "var notebookContainer = gd.closest('#notebook-container');\n",
              "if (notebookContainer) {{\n",
              "    x.observe(notebookContainer, {childList: true});\n",
              "}}\n",
              "\n",
              "// Listen for the clearing of the current output cell\n",
              "var outputEl = gd.closest('.output');\n",
              "if (outputEl) {{\n",
              "    x.observe(outputEl, {childList: true});\n",
              "}}\n",
              "\n",
              "                        })                };                            </script>        </div>\n",
              "</body>\n",
              "</html>"
            ]
          },
          "metadata": {}
        }
      ]
    },
    {
      "cell_type": "code",
      "source": [
        "np.corrcoef(x_axis,y_axis)[0,1]"
      ],
      "metadata": {
        "colab": {
          "base_uri": "https://localhost:8080/"
        },
        "id": "hq6G5rVGGRqd",
        "outputId": "25f781a6-b5e4-47af-f6db-0954d18b4c15"
      },
      "execution_count": null,
      "outputs": [
        {
          "output_type": "execute_result",
          "data": {
            "text/plain": [
              "0.023316851296447616"
            ]
          },
          "metadata": {},
          "execution_count": 23
        }
      ]
    },
    {
      "cell_type": "code",
      "source": [],
      "metadata": {
        "id": "HCh0EY80GX5Q"
      },
      "execution_count": null,
      "outputs": []
    }
  ]
}